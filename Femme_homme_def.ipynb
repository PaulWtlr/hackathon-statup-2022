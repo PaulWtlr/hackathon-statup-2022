{
 "cells": [
  {
   "cell_type": "code",
   "execution_count": 13,
   "id": "a28ed8fa",
   "metadata": {},
   "outputs": [],
   "source": [
    "import joblib\n",
    "import librosa\n",
    "import pandas as pd\n",
    "import numpy as np"
   ]
  },
  {
   "cell_type": "code",
   "execution_count": 17,
   "id": "440fa59d",
   "metadata": {},
   "outputs": [],
   "source": [
    "def get_char_son(fichier):\n",
    "    signal, sr=librosa.load(fichier)\n",
    "    S = np.abs(librosa.stft(signal))\n",
    "    comps, acts = librosa.decompose.decompose(S, n_components=1)\n",
    "    data=pd.DataFrame([np.ravel(comps).tolist()])\n",
    "    data['ID']=fichier\n",
    "    return(data.set_index('ID'))\n",
    "    "
   ]
  },
  {
   "cell_type": "code",
   "execution_count": 19,
   "id": "8e03a760",
   "metadata": {},
   "outputs": [
    {
     "name": "stderr",
     "output_type": "stream",
     "text": [
      "C:\\Users\\Paul\\anaconda3\\lib\\site-packages\\sklearn\\decomposition\\_nmf.py:312: FutureWarning: The 'init' value, when 'init=None' and n_components is less than n_samples and n_features, will be changed from 'nndsvd' to 'nndsvda' in 1.1 (renaming of 0.26).\n",
      "  warnings.warn((\"The 'init' value, when 'init=None' and \"\n",
      "C:\\Users\\Paul\\anaconda3\\lib\\site-packages\\sklearn\\decomposition\\_nmf.py:1090: ConvergenceWarning: Maximum number of iterations 200 reached. Increase it to improve convergence.\n",
      "  warnings.warn(\"Maximum number of iterations %d reached. Increase it to\"\n"
     ]
    }
   ],
   "source": [
    "data=get_char_son('sample.flac')"
   ]
  },
  {
   "cell_type": "code",
   "execution_count": 25,
   "id": "02e1a7cf",
   "metadata": {},
   "outputs": [],
   "source": [
    "def predict_sound(tab):\n",
    "    loaded_model = joblib.load('def/my_model.pkl')\n",
    "    if loaded_model.predict(data)[0]==0:\n",
    "        return('Homme')\n",
    "    return('Femme')"
   ]
  },
  {
   "cell_type": "code",
   "execution_count": 26,
   "id": "8af1641d",
   "metadata": {},
   "outputs": [
    {
     "data": {
      "text/plain": [
       "'Homme'"
      ]
     },
     "execution_count": 26,
     "metadata": {},
     "output_type": "execute_result"
    }
   ],
   "source": [
    "predict_sound(data)"
   ]
  },
  {
   "cell_type": "code",
   "execution_count": null,
   "id": "b8699aa4",
   "metadata": {},
   "outputs": [],
   "source": []
  }
 ],
 "metadata": {
  "kernelspec": {
   "display_name": "Python 3 (ipykernel)",
   "language": "python",
   "name": "python3"
  },
  "language_info": {
   "codemirror_mode": {
    "name": "ipython",
    "version": 3
   },
   "file_extension": ".py",
   "mimetype": "text/x-python",
   "name": "python",
   "nbconvert_exporter": "python",
   "pygments_lexer": "ipython3",
   "version": "3.9.7"
  }
 },
 "nbformat": 4,
 "nbformat_minor": 5
}
