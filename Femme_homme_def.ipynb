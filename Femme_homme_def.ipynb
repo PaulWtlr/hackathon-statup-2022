{
 "cells": [
  {
   "cell_type": "code",
   "execution_count": 1,
   "id": "4568f3a3",
   "metadata": {},
   "outputs": [],
   "source": [
    "import joblib\n",
    "import librosa\n",
    "import pandas as pd\n",
    "import numpy as np"
   ]
  },
  {
   "cell_type": "code",
   "execution_count": 2,
   "id": "3f3cac12",
   "metadata": {},
   "outputs": [],
   "source": [
    "def get_char_son(fichier):\n",
    "    signal, sr=librosa.load(fichier)\n",
    "    S = np.abs(librosa.stft(signal))\n",
    "    comps, acts = librosa.decompose.decompose(S, n_components=1)\n",
    "    data=pd.DataFrame([np.ravel(comps).tolist()])\n",
    "    data['ID']=fichier\n",
    "    return(data.set_index('ID'))\n",
    "    "
   ]
  },
  {
   "cell_type": "code",
   "execution_count": 3,
   "id": "7b72a8d3",
   "metadata": {},
   "outputs": [],
   "source": [
    "def predict_sound(tab):\n",
    "    loaded_model = joblib.load('def/my_model.pkl')\n",
    "    if loaded_model.predict(data)[0]==0:\n",
    "        return('Homme')\n",
    "    return('Femme')"
   ]
  },
  {
   "cell_type": "code",
   "execution_count": 4,
   "id": "895a23c4",
   "metadata": {},
   "outputs": [
    {
     "data": {
      "text/plain": [
       "['4', 'VoxCeleb_gender']"
      ]
     },
     "execution_count": 4,
     "metadata": {},
     "output_type": "execute_result"
    }
   ],
   "source": [
    "import os\n",
    "L=os.listdir('donnees_test/')\n",
    "L"
   ]
  },
  {
   "cell_type": "code",
   "execution_count": 9,
   "id": "837fb9db",
   "metadata": {
    "scrolled": false
   },
   "outputs": [
    {
     "name": "stdout",
     "output_type": "stream",
     "text": [
      "['new_audio[0, 1.16].wav', 'new_audio[1.16, 1.64].wav']\n"
     ]
    },
    {
     "name": "stderr",
     "output_type": "stream",
     "text": [
      "C:\\Users\\Paul\\anaconda3\\lib\\site-packages\\sklearn\\decomposition\\_nmf.py:312: FutureWarning: The 'init' value, when 'init=None' and n_components is less than n_samples and n_features, will be changed from 'nndsvd' to 'nndsvda' in 1.1 (renaming of 0.26).\n",
      "  warnings.warn((\"The 'init' value, when 'init=None' and \"\n",
      "C:\\Users\\Paul\\anaconda3\\lib\\site-packages\\sklearn\\decomposition\\_nmf.py:1090: ConvergenceWarning: Maximum number of iterations 200 reached. Increase it to improve convergence.\n",
      "  warnings.warn(\"Maximum number of iterations %d reached. Increase it to\"\n"
     ]
    },
    {
     "name": "stdout",
     "output_type": "stream",
     "text": [
      "Femme\n",
      "Femme\n"
     ]
    },
    {
     "name": "stderr",
     "output_type": "stream",
     "text": [
      "C:\\Users\\Paul\\anaconda3\\lib\\site-packages\\sklearn\\decomposition\\_nmf.py:312: FutureWarning: The 'init' value, when 'init=None' and n_components is less than n_samples and n_features, will be changed from 'nndsvd' to 'nndsvda' in 1.1 (renaming of 0.26).\n",
      "  warnings.warn((\"The 'init' value, when 'init=None' and \"\n",
      "C:\\Users\\Paul\\anaconda3\\lib\\site-packages\\sklearn\\decomposition\\_nmf.py:1090: ConvergenceWarning: Maximum number of iterations 200 reached. Increase it to improve convergence.\n",
      "  warnings.warn(\"Maximum number of iterations %d reached. Increase it to\"\n"
     ]
    }
   ],
   "source": [
    "for i in range(len(L)-1):\n",
    "    L2=os.listdir('donnees_test/'+L[i]+'/')\n",
    "    print(L2)\n",
    "    for j in range(len(L2)):\n",
    "        name=L2[j]\n",
    "        data=get_char_son('donnees_test/'+L[i]+'/'+name)\n",
    "        print(predict_sound(data))"
   ]
  },
  {
   "cell_type": "code",
   "execution_count": null,
   "id": "95bc0b83",
   "metadata": {},
   "outputs": [],
   "source": []
  }
 ],
 "metadata": {
  "kernelspec": {
   "display_name": "Python 3 (ipykernel)",
   "language": "python",
   "name": "python3"
  },
  "language_info": {
   "codemirror_mode": {
    "name": "ipython",
    "version": 3
   },
   "file_extension": ".py",
   "mimetype": "text/x-python",
   "name": "python",
   "nbconvert_exporter": "python",
   "pygments_lexer": "ipython3",
   "version": "3.9.7"
  }
 },
 "nbformat": 4,
 "nbformat_minor": 5
}
