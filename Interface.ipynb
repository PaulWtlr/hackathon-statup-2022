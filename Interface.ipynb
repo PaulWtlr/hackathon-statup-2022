{
 "cells": [
  {
   "cell_type": "code",
   "execution_count": null,
   "id": "9a7018b5",
   "metadata": {},
   "outputs": [],
   "source": [
    "from tkinter import *\n",
    "\n",
    "\n",
    "# Création de la fenetre principale\n",
    "\n",
    "fen_princ = Tk()\n",
    "\n",
    "fen_princ.title(\"Test de\")\n",
    "\n",
    "fen_princ.geometry(\"1920x1080\")\n",
    "\n",
    "\n",
    "# Création des 3 Labels sélectionnables\n",
    "\n",
    "choix1 = Label(fen_princ, text=\"Glisser le fichier audio\",fg=\"yellow\", bg=\"black\",font=(\"Helvetica\", 20),height = 20, width=50)\n",
    "\n",
    "choix1.place(x=50,y=50)\n"
   ]
  },
  {
   "cell_type": "code",
   "execution_count": null,
   "id": "cec54346",
   "metadata": {},
   "outputs": [],
   "source": [
    "# Lancement de la surveillance sur la fenêtre\n",
    "\n",
    "fen_princ.mainloop()"
   ]
  },
  {
   "cell_type": "code",
   "execution_count": null,
   "id": "ce945a93",
   "metadata": {},
   "outputs": [],
   "source": []
  }
 ],
 "metadata": {
  "kernelspec": {
   "display_name": "Python 3 (ipykernel)",
   "language": "python",
   "name": "python3"
  },
  "language_info": {
   "codemirror_mode": {
    "name": "ipython",
    "version": 3
   },
   "file_extension": ".py",
   "mimetype": "text/x-python",
   "name": "python",
   "nbconvert_exporter": "python",
   "pygments_lexer": "ipython3",
   "version": "3.9.7"
  }
 },
 "nbformat": 4,
 "nbformat_minor": 5
}
