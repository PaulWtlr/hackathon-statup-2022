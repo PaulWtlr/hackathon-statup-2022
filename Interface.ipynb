{
 "cells": [
  {
   "cell_type": "code",
   "execution_count": 4,
   "id": "b651eaf1",
   "metadata": {},
   "outputs": [],
   "source": [
    "from tkinter import *\n",
    "class DragManager():\n",
    "\n",
    "\n",
    "    def __init__(self,widget,drag=True,drop=True):\n",
    "\n",
    "        self.widget = widget\n",
    "\n",
    "        self.drag = drag\n",
    "\n",
    "        self.drop = drop\n",
    "\n",
    "        if drag:\n",
    "\n",
    "            self.add_dragable(self.widget)\n",
    "\n",
    "\n",
    "    def add_dragable(self, widget):\n",
    "\n",
    "        self.widget = widget\n",
    "\n",
    "        self.widget.bind(\"<ButtonPress-1>\", self.on_start)\n",
    "\n",
    "        self.widget.bind(\"<B1-Motion>\", self.on_drag)\n",
    "\n",
    "        self.widget.bind(\"<ButtonRelease-1>\", self.on_drop)\n",
    "\n",
    "        self.widget.configure(cursor=\"hand1\")\n",
    "\n",
    "\n",
    "    def on_start(self, event):\n",
    "\n",
    "        pass\n",
    "\n",
    "\n",
    "    def on_drag(self, event):\n",
    "\n",
    "        pass\n",
    "\n",
    "\n",
    "    def on_drop(self, event):\n",
    "\n",
    "        # commencons par trouver le widget sous le curseur de la souris\n",
    "\n",
    "        x,y = event.widget.winfo_pointerxy()\n",
    "\n",
    "        target = event.widget.winfo_containing(x,y)\n",
    "\n",
    "        try:\n",
    "\n",
    "            pass\n",
    "\n",
    "        except:\n",
    "\n",
    "            pass\n",
    "\n",
    "# Création de la fenetre principale\n",
    "\n",
    "fen_princ = Tk()\n",
    "\n",
    "fen_princ.title(\"Test de\")\n",
    "\n",
    "fen_princ.geometry(\"1920x1080\")\n",
    "\n",
    "\n",
    "# Création des 3 Labels sélectionnables\n",
    "\n",
    "choix1 = Label(fen_princ, text=\"Glisser le fichier audio\",fg=\"yellow\", bg=\"black\",font=(\"Helvetica\", 20),height = 20, width=50)\n",
    "\n",
    "choix1.place(x=50,y=50)\n"
   ]
  },
  {
   "cell_type": "code",
   "execution_count": 5,
   "id": "a0bfa7af",
   "metadata": {},
   "outputs": [],
   "source": [
    "# Lancement de la surveillance sur la fenêtre\n",
    "drag1 = DragManager(choix1)\n",
    "fen_princ.mainloop()"
   ]
  },
  {
   "cell_type": "code",
   "execution_count": 3,
   "id": "5c100496",
   "metadata": {},
   "outputs": [
    {
     "ename": "ModuleNotFoundError",
     "evalue": "No module named 'TkinterDnD2'",
     "output_type": "error",
     "traceback": [
      "\u001b[1;31m---------------------------------------------------------------------------\u001b[0m",
      "\u001b[1;31mModuleNotFoundError\u001b[0m                       Traceback (most recent call last)",
      "\u001b[1;32m~\\AppData\\Local\\Temp/ipykernel_18420/2626685584.py\u001b[0m in \u001b[0;36m<module>\u001b[1;34m\u001b[0m\n\u001b[0;32m      1\u001b[0m \u001b[1;32mfrom\u001b[0m \u001b[0mtkinter\u001b[0m \u001b[1;32mimport\u001b[0m \u001b[1;33m*\u001b[0m\u001b[1;33m\u001b[0m\u001b[1;33m\u001b[0m\u001b[0m\n\u001b[1;32m----> 2\u001b[1;33m \u001b[1;32mfrom\u001b[0m \u001b[0mTkinterDnD2\u001b[0m \u001b[1;32mimport\u001b[0m \u001b[1;33m*\u001b[0m\u001b[1;33m\u001b[0m\u001b[1;33m\u001b[0m\u001b[0m\n\u001b[0m\u001b[0;32m      3\u001b[0m \u001b[1;33m\u001b[0m\u001b[0m\n\u001b[0;32m      4\u001b[0m \u001b[1;32mdef\u001b[0m \u001b[0mshow_text\u001b[0m\u001b[1;33m(\u001b[0m\u001b[0mevent\u001b[0m\u001b[1;33m)\u001b[0m\u001b[1;33m:\u001b[0m\u001b[1;33m\u001b[0m\u001b[1;33m\u001b[0m\u001b[0m\n\u001b[0;32m      5\u001b[0m     \u001b[0mtextarea\u001b[0m\u001b[1;33m.\u001b[0m\u001b[0mdelete\u001b[0m\u001b[1;33m(\u001b[0m\u001b[1;34m\"1.0\"\u001b[0m\u001b[1;33m,\u001b[0m\u001b[1;34m\"end\"\u001b[0m\u001b[1;33m)\u001b[0m\u001b[1;33m\u001b[0m\u001b[1;33m\u001b[0m\u001b[0m\n",
      "\u001b[1;31mModuleNotFoundError\u001b[0m: No module named 'TkinterDnD2'"
     ]
    }
   ],
   "source": [
    "from tkinter import *\n",
    "from TkinterDnD2 import *\n",
    "\n",
    "def show_text(event):\n",
    "    textarea.delete(\"1.0\",\"end\")\n",
    "    if event.data.endswith(\".txt\"):\n",
    "        with open(event.data, \"r\") as file:\n",
    "            for line in file:\n",
    "                line=line.strip()\n",
    "                textarea.insert(\"end\",f\"{line}\\n\")\n",
    "\n",
    "ws = TkinterDnD.Tk()\n",
    "ws.title('PythonGuides')\n",
    "ws.geometry('400x300')\n",
    "ws.config(bg='#fcb103')\n",
    "\n",
    "frame = Frame(ws)\n",
    "frame.pack()\n",
    "\n",
    "textarea = Text(frame, height=18, width=40)\n",
    "textarea.pack(side=LEFT)\n",
    "textarea.drop_target_register(DND_FILES)\n",
    "textarea.dnd_bind('<<Drop>>', show_text)\n",
    "\n",
    "sbv = Scrollbar(frame, orient=VERTICAL)\n",
    "sbv.pack(side=RIGHT, fill=Y)\n",
    "\n",
    "textarea.configure(yscrollcommand=sbv.set)\n",
    "sbv.config(command=textarea.yview)\n",
    "\n",
    "\n",
    "\n",
    "ws.mainloop()"
   ]
  },
  {
   "cell_type": "code",
   "execution_count": 2,
   "id": "d000a780",
   "metadata": {},
   "outputs": [
    {
     "name": "stdout",
     "output_type": "stream",
     "text": [
      "Requirement already satisfied: TkinterDnD2 in c:\\users\\paul\\anaconda3\\lib\\site-packages (0.3.0)\n"
     ]
    }
   ],
   "source": [
    "!pip install TkinterDnD2"
   ]
  },
  {
   "cell_type": "code",
   "execution_count": null,
   "id": "1443c53f",
   "metadata": {},
   "outputs": [],
   "source": []
  }
 ],
 "metadata": {
  "kernelspec": {
   "display_name": "Python 3 (ipykernel)",
   "language": "python",
   "name": "python3"
  },
  "language_info": {
   "codemirror_mode": {
    "name": "ipython",
    "version": 3
   },
   "file_extension": ".py",
   "mimetype": "text/x-python",
   "name": "python",
   "nbconvert_exporter": "python",
   "pygments_lexer": "ipython3",
   "version": "3.9.7"
  }
 },
 "nbformat": 4,
 "nbformat_minor": 5
}
