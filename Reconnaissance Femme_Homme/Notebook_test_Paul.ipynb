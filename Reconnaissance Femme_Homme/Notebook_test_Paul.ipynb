{
 "cells": [
  {
   "cell_type": "code",
   "execution_count": 1,
   "id": "47d5f2dc",
   "metadata": {},
   "outputs": [],
   "source": [
    "import pandas as pd\n",
    "import numpy as np\n",
    "import librosa, librosa.display\n",
    "import matplotlib.pyplot as plt\n",
    "import os"
   ]
  },
  {
   "cell_type": "code",
   "execution_count": 6,
   "id": "7b543355",
   "metadata": {},
   "outputs": [
    {
     "data": {
      "text/plain": [
       "8       26\n",
       "9       27\n",
       "32      60\n",
       "41      78\n",
       "68     118\n",
       "88     163\n",
       "99     196\n",
       "103    201\n",
       "122    229\n",
       "124    233\n",
       "Name: ID, dtype: int64"
      ]
     },
     "execution_count": 6,
     "metadata": {},
     "output_type": "execute_result"
    }
   ],
   "source": [
    "tab=pd.read_excel('SPEAKER.xls')\n",
    "tab=tab[tab['SUBSET']==' train-clean-100  '].drop(columns=['SUBSET','NAME','MINUTES'])\n",
    "X1=tab[tab['SEX']==' F '].head(10)\n",
    "X2=tab[tab['SEX']==' M '].head(10)\n",
    "X2['ID']"
   ]
  },
  {
   "cell_type": "code",
   "execution_count": 7,
   "id": "e20fa83d",
   "metadata": {},
   "outputs": [
    {
     "data": {
      "text/plain": [
       "10"
      ]
     },
     "execution_count": 7,
     "metadata": {},
     "output_type": "execute_result"
    }
   ],
   "source": [
    "len(X2['ID'])"
   ]
  },
  {
   "cell_type": "code",
   "execution_count": 14,
   "id": "82cf7920",
   "metadata": {},
   "outputs": [],
   "source": [
    "def associer_nom_fichier(tab):\n",
    "    liste=os.listdir('LibriSpeech')\n",
    "    L=[]\n",
    "    for i in range(len(tab['ID'])):\n",
    "        name=str(tab['ID'].iloc[i])+'-'\n",
    "        L.append([x for x in liste if x[:len(name)] ==name][0])\n",
    "    X2['Name']=L\n",
    "    return(tab)"
   ]
  },
  {
   "cell_type": "code",
   "execution_count": 18,
   "id": "5bb07676",
   "metadata": {},
   "outputs": [
    {
     "data": {
      "text/html": [
       "<div>\n",
       "<style scoped>\n",
       "    .dataframe tbody tr th:only-of-type {\n",
       "        vertical-align: middle;\n",
       "    }\n",
       "\n",
       "    .dataframe tbody tr th {\n",
       "        vertical-align: top;\n",
       "    }\n",
       "\n",
       "    .dataframe thead th {\n",
       "        text-align: right;\n",
       "    }\n",
       "</style>\n",
       "<table border=\"1\" class=\"dataframe\">\n",
       "  <thead>\n",
       "    <tr style=\"text-align: right;\">\n",
       "      <th></th>\n",
       "      <th>ID</th>\n",
       "      <th>SEX</th>\n",
       "      <th>Name</th>\n",
       "    </tr>\n",
       "  </thead>\n",
       "  <tbody>\n",
       "    <tr>\n",
       "      <th>8</th>\n",
       "      <td>26</td>\n",
       "      <td>M</td>\n",
       "      <td>26-495-0000.flac</td>\n",
       "    </tr>\n",
       "    <tr>\n",
       "      <th>9</th>\n",
       "      <td>27</td>\n",
       "      <td>M</td>\n",
       "      <td>27-123349-0000.flac</td>\n",
       "    </tr>\n",
       "    <tr>\n",
       "      <th>32</th>\n",
       "      <td>60</td>\n",
       "      <td>M</td>\n",
       "      <td>60-121082-0000.flac</td>\n",
       "    </tr>\n",
       "    <tr>\n",
       "      <th>41</th>\n",
       "      <td>78</td>\n",
       "      <td>M</td>\n",
       "      <td>78-368-0000.flac</td>\n",
       "    </tr>\n",
       "    <tr>\n",
       "      <th>68</th>\n",
       "      <td>118</td>\n",
       "      <td>M</td>\n",
       "      <td>118-121721-0000.flac</td>\n",
       "    </tr>\n",
       "    <tr>\n",
       "      <th>88</th>\n",
       "      <td>163</td>\n",
       "      <td>M</td>\n",
       "      <td>163-121908-0000.flac</td>\n",
       "    </tr>\n",
       "    <tr>\n",
       "      <th>99</th>\n",
       "      <td>196</td>\n",
       "      <td>M</td>\n",
       "      <td>196-122150-0000.flac</td>\n",
       "    </tr>\n",
       "    <tr>\n",
       "      <th>103</th>\n",
       "      <td>201</td>\n",
       "      <td>M</td>\n",
       "      <td>201-122255-0000.flac</td>\n",
       "    </tr>\n",
       "    <tr>\n",
       "      <th>122</th>\n",
       "      <td>229</td>\n",
       "      <td>M</td>\n",
       "      <td>229-130880-0000.flac</td>\n",
       "    </tr>\n",
       "    <tr>\n",
       "      <th>124</th>\n",
       "      <td>233</td>\n",
       "      <td>M</td>\n",
       "      <td>233-134440-0000.flac</td>\n",
       "    </tr>\n",
       "  </tbody>\n",
       "</table>\n",
       "</div>"
      ],
      "text/plain": [
       "      ID  SEX                  Name\n",
       "8     26   M       26-495-0000.flac\n",
       "9     27   M    27-123349-0000.flac\n",
       "32    60   M    60-121082-0000.flac\n",
       "41    78   M       78-368-0000.flac\n",
       "68   118   M   118-121721-0000.flac\n",
       "88   163   M   163-121908-0000.flac\n",
       "99   196   M   196-122150-0000.flac\n",
       "103  201   M   201-122255-0000.flac\n",
       "122  229   M   229-130880-0000.flac\n",
       "124  233   M   233-134440-0000.flac"
      ]
     },
     "execution_count": 18,
     "metadata": {},
     "output_type": "execute_result"
    }
   ],
   "source": [
    "tab=associer_nom_fichier(X2)\n",
    "tab"
   ]
  },
  {
   "cell_type": "code",
   "execution_count": 25,
   "id": "b0575bd4",
   "metadata": {},
   "outputs": [],
   "source": [
    "ID=\"LibriSpeech/19-198-0000.flac\"\n",
    "def FFT(ID,FH):\n",
    "    signal, sr=librosa.load(ID)\n",
    "    # Creating a Discrete-Fourier Transform with our FFT algorithm\n",
    "    fast_fourier_transf = np.fft.fft(signal,n=300)\n",
    "    # Magnitudes indicate the contribution of each frequency\n",
    "    magnitude = np.abs(fast_fourier_transf)\n",
    "    # mapping the magnitude to the relative frequency bins\n",
    "    frequency = np.linspace(0, sr, len(magnitude))\n",
    "    # We only need the first half of the magnitude and frequency\n",
    "    left_mag = magnitude[:int(len(magnitude)/2)]\n",
    "    data=pd.DataFrame([left_mag.tolist()])\n",
    "    data['ID']=ID\n",
    "    data['SEXE']=FH\n",
    "    return(data)"
   ]
  },
  {
   "cell_type": "code",
   "execution_count": 26,
   "id": "3a85b33a",
   "metadata": {},
   "outputs": [
    {
     "data": {
      "text/html": [
       "<div>\n",
       "<style scoped>\n",
       "    .dataframe tbody tr th:only-of-type {\n",
       "        vertical-align: middle;\n",
       "    }\n",
       "\n",
       "    .dataframe tbody tr th {\n",
       "        vertical-align: top;\n",
       "    }\n",
       "\n",
       "    .dataframe thead th {\n",
       "        text-align: right;\n",
       "    }\n",
       "</style>\n",
       "<table border=\"1\" class=\"dataframe\">\n",
       "  <thead>\n",
       "    <tr style=\"text-align: right;\">\n",
       "      <th></th>\n",
       "      <th>0</th>\n",
       "      <th>1</th>\n",
       "      <th>2</th>\n",
       "      <th>3</th>\n",
       "      <th>4</th>\n",
       "      <th>5</th>\n",
       "      <th>6</th>\n",
       "      <th>7</th>\n",
       "      <th>8</th>\n",
       "      <th>9</th>\n",
       "      <th>...</th>\n",
       "      <th>142</th>\n",
       "      <th>143</th>\n",
       "      <th>144</th>\n",
       "      <th>145</th>\n",
       "      <th>146</th>\n",
       "      <th>147</th>\n",
       "      <th>148</th>\n",
       "      <th>149</th>\n",
       "      <th>ID</th>\n",
       "      <th>SEXE</th>\n",
       "    </tr>\n",
       "  </thead>\n",
       "  <tbody>\n",
       "    <tr>\n",
       "      <th>0</th>\n",
       "      <td>0.218856</td>\n",
       "      <td>0.316053</td>\n",
       "      <td>0.185612</td>\n",
       "      <td>0.055561</td>\n",
       "      <td>0.072195</td>\n",
       "      <td>0.087691</td>\n",
       "      <td>0.102612</td>\n",
       "      <td>0.05271</td>\n",
       "      <td>0.051853</td>\n",
       "      <td>0.063425</td>\n",
       "      <td>...</td>\n",
       "      <td>0.002805</td>\n",
       "      <td>0.002802</td>\n",
       "      <td>0.002799</td>\n",
       "      <td>0.002796</td>\n",
       "      <td>0.002794</td>\n",
       "      <td>0.002792</td>\n",
       "      <td>0.002791</td>\n",
       "      <td>0.00279</td>\n",
       "      <td>LibriSpeech/19-198-0000.flac</td>\n",
       "      <td>F</td>\n",
       "    </tr>\n",
       "  </tbody>\n",
       "</table>\n",
       "<p>1 rows × 152 columns</p>\n",
       "</div>"
      ],
      "text/plain": [
       "          0         1         2         3         4         5         6  \\\n",
       "0  0.218856  0.316053  0.185612  0.055561  0.072195  0.087691  0.102612   \n",
       "\n",
       "         7         8         9  ...       142       143       144       145  \\\n",
       "0  0.05271  0.051853  0.063425  ...  0.002805  0.002802  0.002799  0.002796   \n",
       "\n",
       "        146       147       148      149                            ID  SEXE  \n",
       "0  0.002794  0.002792  0.002791  0.00279  LibriSpeech/19-198-0000.flac     F  \n",
       "\n",
       "[1 rows x 152 columns]"
      ]
     },
     "execution_count": 26,
     "metadata": {},
     "output_type": "execute_result"
    }
   ],
   "source": [
    "FFT(ID,'F')"
   ]
  },
  {
   "cell_type": "code",
   "execution_count": 3,
   "id": "a259d555",
   "metadata": {},
   "outputs": [],
   "source": [
    "X=tab['ID']\n",
    "y=tab['SEX']\n",
    "tab['Train_Test']=np.nan"
   ]
  },
  {
   "cell_type": "code",
   "execution_count": 4,
   "id": "15cfb614",
   "metadata": {},
   "outputs": [
    {
     "ename": "NameError",
     "evalue": "name 'X_train' is not defined",
     "output_type": "error",
     "traceback": [
      "\u001b[1;31m---------------------------------------------------------------------------\u001b[0m",
      "\u001b[1;31mNameError\u001b[0m                                 Traceback (most recent call last)",
      "\u001b[1;32m~\\AppData\\Local\\Temp/ipykernel_15332/4118501203.py\u001b[0m in \u001b[0;36m<module>\u001b[1;34m\u001b[0m\n\u001b[1;32m----> 1\u001b[1;33m \u001b[0mtab\u001b[0m\u001b[1;33m[\u001b[0m\u001b[0mtab\u001b[0m\u001b[1;33m[\u001b[0m\u001b[1;34m'ID'\u001b[0m\u001b[1;33m]\u001b[0m\u001b[1;33m.\u001b[0m\u001b[0misin\u001b[0m\u001b[1;33m(\u001b[0m\u001b[0mX_train\u001b[0m\u001b[1;33m[\u001b[0m\u001b[1;34m'ID'\u001b[0m\u001b[1;33m]\u001b[0m\u001b[1;33m.\u001b[0m\u001b[0mto_list\u001b[0m\u001b[1;33m(\u001b[0m\u001b[1;33m)\u001b[0m\u001b[1;33m)\u001b[0m\u001b[1;33m]\u001b[0m\u001b[1;33m\u001b[0m\u001b[1;33m\u001b[0m\u001b[0m\n\u001b[0m",
      "\u001b[1;31mNameError\u001b[0m: name 'X_train' is not defined"
     ]
    }
   ],
   "source": [
    "tab[tab['ID'].isin(X_train['ID'].to_list())]"
   ]
  },
  {
   "cell_type": "code",
   "execution_count": null,
   "id": "725a8e76",
   "metadata": {},
   "outputs": [],
   "source": [
    "from sklearn.model_selection import train_test_split"
   ]
  },
  {
   "cell_type": "code",
   "execution_count": null,
   "id": "419a2d15",
   "metadata": {},
   "outputs": [],
   "source": [
    "X=tab.drop(columns=['SEX'])\n",
    "X_train, X_test, y_train, y_test = train_test_split(X, y, test_size=0.33, random_state=42)"
   ]
  },
  {
   "cell_type": "code",
   "execution_count": null,
   "id": "e403fc8a",
   "metadata": {},
   "outputs": [],
   "source": [
    "import torch\n",
    "import torchaudio\n",
    "import torchaudio.functional as F\n",
    "import torchaudio.transforms as T\n"
   ]
  },
  {
   "cell_type": "code",
   "execution_count": null,
   "id": "d965adb2",
   "metadata": {},
   "outputs": [],
   "source": [
    "import librosa, librosa.display\n",
    "import numpy as np\n",
    "import matplotlib.pyplot as plt\n",
    "%matplotlib inline\n",
    "signal, sr=librosa.load(\"LibriSpeech/19-198-0000.flac\")"
   ]
  },
  {
   "cell_type": "code",
   "execution_count": null,
   "id": "d32a9235",
   "metadata": {},
   "outputs": [],
   "source": [
    "signal"
   ]
  },
  {
   "cell_type": "code",
   "execution_count": null,
   "id": "fcef6f7c",
   "metadata": {},
   "outputs": [],
   "source": [
    "# Creating a Discrete-Fourier Transform with our FFT algorithm\n",
    "fast_fourier_transf = np.fft.fft(signal,n=300)\n",
    "# Magnitudes indicate the contribution of each frequency\n",
    "magnitude = np.abs(fast_fourier_transf)\n",
    "# mapping the magnitude to the relative frequency bins\n",
    "frequency = np.linspace(0, sr, len(magnitude))\n",
    "# We only need the first half of the magnitude and frequency\n",
    "left_mag = magnitude[:int(len(magnitude)/2)]\n",
    "left_freq = frequency[:int(len(frequency)/2)]\n",
    "plt.plot(left_freq, left_mag)\n",
    "plt.title('Discrete-Fourier Transform', fontdict=dict(size=15))\n",
    "plt.xlabel('Frequency', fontdict=dict(size=12))\n",
    "plt.ylabel('Magnitude', fontdict=dict(size=12))\n",
    "plt.show()"
   ]
  },
  {
   "cell_type": "code",
   "execution_count": null,
   "id": "22629b6b",
   "metadata": {},
   "outputs": [],
   "source": []
  },
  {
   "cell_type": "code",
   "execution_count": null,
   "id": "228fc0dc",
   "metadata": {},
   "outputs": [],
   "source": [
    "data"
   ]
  },
  {
   "cell_type": "code",
   "execution_count": null,
   "id": "92b5a13f",
   "metadata": {},
   "outputs": [],
   "source": []
  }
 ],
 "metadata": {
  "kernelspec": {
   "display_name": "Python 3",
   "language": "python",
   "name": "python3"
  },
  "language_info": {
   "codemirror_mode": {
    "name": "ipython",
    "version": 3
   },
   "file_extension": ".py",
   "mimetype": "text/x-python",
   "name": "python",
   "nbconvert_exporter": "python",
   "pygments_lexer": "ipython3",
   "version": "3.8.5"
  }
 },
 "nbformat": 4,
 "nbformat_minor": 5
}
