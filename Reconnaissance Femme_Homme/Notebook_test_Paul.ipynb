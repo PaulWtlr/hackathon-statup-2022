{
 "cells": [
  {
   "cell_type": "code",
   "execution_count": 1,
   "id": "47d5f2dc",
   "metadata": {},
   "outputs": [],
   "source": [
    "import pandas as pd"
   ]
  },
  {
   "cell_type": "code",
   "execution_count": null,
   "id": "8b94a3aa",
   "metadata": {},
   "outputs": [],
   "source": []
  },
  {
   "cell_type": "code",
   "execution_count": 2,
   "id": "7b543355",
   "metadata": {},
   "outputs": [
    {
     "data": {
      "text/html": [
       "<div>\n",
       "<style scoped>\n",
       "    .dataframe tbody tr th:only-of-type {\n",
       "        vertical-align: middle;\n",
       "    }\n",
       "\n",
       "    .dataframe tbody tr th {\n",
       "        vertical-align: top;\n",
       "    }\n",
       "\n",
       "    .dataframe thead th {\n",
       "        text-align: right;\n",
       "    }\n",
       "</style>\n",
       "<table border=\"1\" class=\"dataframe\">\n",
       "  <thead>\n",
       "    <tr style=\"text-align: right;\">\n",
       "      <th></th>\n",
       "      <th>ID</th>\n",
       "      <th>SEX</th>\n",
       "      <th>SUBSET</th>\n",
       "      <th>MINUTES</th>\n",
       "      <th>NAME</th>\n",
       "    </tr>\n",
       "  </thead>\n",
       "  <tbody>\n",
       "    <tr>\n",
       "      <th>3</th>\n",
       "      <td>19</td>\n",
       "      <td>F</td>\n",
       "      <td>train-clean-100</td>\n",
       "      <td>25.19</td>\n",
       "      <td>Kara Shallenberg</td>\n",
       "    </tr>\n",
       "    <tr>\n",
       "      <th>8</th>\n",
       "      <td>26</td>\n",
       "      <td>M</td>\n",
       "      <td>train-clean-100</td>\n",
       "      <td>25.08</td>\n",
       "      <td>Denny Sayers</td>\n",
       "    </tr>\n",
       "    <tr>\n",
       "      <th>9</th>\n",
       "      <td>27</td>\n",
       "      <td>M</td>\n",
       "      <td>train-clean-100</td>\n",
       "      <td>20.14</td>\n",
       "      <td>Sean McKinley</td>\n",
       "    </tr>\n",
       "    <tr>\n",
       "      <th>14</th>\n",
       "      <td>32</td>\n",
       "      <td>F</td>\n",
       "      <td>train-clean-100</td>\n",
       "      <td>24.01</td>\n",
       "      <td>Betsie Bush</td>\n",
       "    </tr>\n",
       "    <tr>\n",
       "      <th>18</th>\n",
       "      <td>39</td>\n",
       "      <td>F</td>\n",
       "      <td>train-clean-100</td>\n",
       "      <td>25.05</td>\n",
       "      <td>Sherry Crowther</td>\n",
       "    </tr>\n",
       "    <tr>\n",
       "      <th>19</th>\n",
       "      <td>40</td>\n",
       "      <td>F</td>\n",
       "      <td>train-clean-100</td>\n",
       "      <td>25.04</td>\n",
       "      <td>Vicki Barbour</td>\n",
       "    </tr>\n",
       "    <tr>\n",
       "      <th>32</th>\n",
       "      <td>60</td>\n",
       "      <td>M</td>\n",
       "      <td>train-clean-100</td>\n",
       "      <td>20.18</td>\n",
       "      <td></td>\n",
       "    </tr>\n",
       "    <tr>\n",
       "      <th>41</th>\n",
       "      <td>78</td>\n",
       "      <td>M</td>\n",
       "      <td>train-clean-100</td>\n",
       "      <td>25.05</td>\n",
       "      <td>Hugh McGuire</td>\n",
       "    </tr>\n",
       "    <tr>\n",
       "      <th>45</th>\n",
       "      <td>83</td>\n",
       "      <td>F</td>\n",
       "      <td>train-clean-100</td>\n",
       "      <td>25.04</td>\n",
       "      <td>Catharine Eastman</td>\n",
       "    </tr>\n",
       "    <tr>\n",
       "      <th>48</th>\n",
       "      <td>87</td>\n",
       "      <td>F</td>\n",
       "      <td>train-clean-100</td>\n",
       "      <td>25.10</td>\n",
       "      <td>Rosalind Wills</td>\n",
       "    </tr>\n",
       "  </tbody>\n",
       "</table>\n",
       "</div>"
      ],
      "text/plain": [
       "    ID  SEX              SUBSET  MINUTES                NAME\n",
       "3   19   F    train-clean-100      25.19    Kara Shallenberg\n",
       "8   26   M    train-clean-100      25.08        Denny Sayers\n",
       "9   27   M    train-clean-100      20.14       Sean McKinley\n",
       "14  32   F    train-clean-100      24.01         Betsie Bush\n",
       "18  39   F    train-clean-100      25.05     Sherry Crowther\n",
       "19  40   F    train-clean-100      25.04       Vicki Barbour\n",
       "32  60   M    train-clean-100      20.18                    \n",
       "41  78   M    train-clean-100      25.05        Hugh McGuire\n",
       "45  83   F    train-clean-100      25.04   Catharine Eastman\n",
       "48  87   F    train-clean-100      25.10      Rosalind Wills"
      ]
     },
     "execution_count": 2,
     "metadata": {},
     "output_type": "execute_result"
    }
   ],
   "source": [
    "tab=pd.read_excel('SPEAKER.xls')\n",
    "tab=tab[tab['SUBSET']==' train-clean-100  '].head(10)\n",
    "tab.head(10)"
   ]
  },
  {
   "cell_type": "code",
   "execution_count": 4,
   "id": "747c82e7",
   "metadata": {},
   "outputs": [
    {
     "name": "stdout",
     "output_type": "stream",
     "text": [
      "1.11.0+cpu\n",
      "0.11.0+cpu\n"
     ]
    },
    {
     "name": "stderr",
     "output_type": "stream",
     "text": [
      "C:\\Users\\Paul\\anaconda3\\lib\\site-packages\\torchaudio\\backend\\utils.py:66: UserWarning: No audio backend is available.\n",
      "  warnings.warn(\"No audio backend is available.\")\n"
     ]
    }
   ],
   "source": [
    "import torch\n",
    "import torchaudio\n",
    "import torchaudio.functional as F\n",
    "import torchaudio.transforms as T\n"
   ]
  },
  {
   "cell_type": "code",
   "execution_count": 20,
   "id": "880dbf02",
   "metadata": {},
   "outputs": [],
   "source": [
    "import librosa, librosa.display\n",
    "import numpy as np\n",
    "import matplotlib.pyplot as plt\n",
    "%matplotlib inline\n",
    "signal, sr=librosa.load(\"LibriSpeech/19-198-0000.flac\")"
   ]
  },
  {
   "cell_type": "code",
   "execution_count": 21,
   "id": "147a8e66",
   "metadata": {},
   "outputs": [
    {
     "data": {
      "text/plain": [
       "array([0.00419951, 0.0039704 , 0.00297183, ..., 0.00691535, 0.00542614,\n",
       "       0.        ], dtype=float32)"
      ]
     },
     "execution_count": 21,
     "metadata": {},
     "output_type": "execute_result"
    }
   ],
   "source": [
    "signal"
   ]
  },
  {
   "cell_type": "code",
   "execution_count": 32,
   "id": "1ce8d332",
   "metadata": {},
   "outputs": [
    {
     "data": {
      "image/png": "[encoded data removed]",
      "text/plain": [
       "<Figure size 432x288 with 1 Axes>"
      ]
     },
     "metadata": {
      "needs_background": "light"
     },
     "output_type": "display_data"
    }
   ],
   "source": [
    "# Creating a Discrete-Fourier Transform with our FFT algorithm\n",
    "fast_fourier_transf = np.fft.fft(signal,n=3000)\n",
    "# Magnitudes indicate the contribution of each frequency\n",
    "magnitude = np.abs(fast_fourier_transf)\n",
    "# mapping the magnitude to the relative frequency bins\n",
    "frequency = np.linspace(0, sr, len(magnitude))\n",
    "# We only need the first half of the magnitude and frequency\n",
    "left_mag = magnitude[:int(len(magnitude)/2)]\n",
    "left_freq = frequency[:int(len(frequency)/2)]\n",
    "plt.plot(left_freq, left_mag)\n",
    "plt.title('Discrete-Fourier Transform', fontdict=dict(size=15))\n",
    "plt.xlabel('Frequency', fontdict=dict(size=12))\n",
    "plt.ylabel('Magnitude', fontdict=dict(size=12))\n",
    "plt.show()"
   ]
  },
  {
   "cell_type": "code",
   "execution_count": 33,
   "id": "7a2ca041",
   "metadata": {},
   "outputs": [
    {
     "data": {
      "text/plain": [
       "1500"
      ]
     },
     "execution_count": 33,
     "metadata": {},
     "output_type": "execute_result"
    }
   ],
   "source": [
    "len(left_mag)"
   ]
  },
  {
   "cell_type": "code",
   "execution_count": 35,
   "id": "37e83030",
   "metadata": {},
   "outputs": [
    {
     "data": {
      "text/html": [
       "<div>\n",
       "<style scoped>\n",
       "    .dataframe tbody tr th:only-of-type {\n",
       "        vertical-align: middle;\n",
       "    }\n",
       "\n",
       "    .dataframe tbody tr th {\n",
       "        vertical-align: top;\n",
       "    }\n",
       "\n",
       "    .dataframe thead th {\n",
       "        text-align: right;\n",
       "    }\n",
       "</style>\n",
       "<table border=\"1\" class=\"dataframe\">\n",
       "  <thead>\n",
       "    <tr style=\"text-align: right;\">\n",
       "      <th></th>\n",
       "      <th>0</th>\n",
       "    </tr>\n",
       "  </thead>\n",
       "  <tbody>\n",
       "    <tr>\n",
       "      <th>0</th>\n",
       "      <td>0.509853</td>\n",
       "    </tr>\n",
       "    <tr>\n",
       "      <th>1</th>\n",
       "      <td>0.449110</td>\n",
       "    </tr>\n",
       "    <tr>\n",
       "      <th>2</th>\n",
       "      <td>0.782128</td>\n",
       "    </tr>\n",
       "    <tr>\n",
       "      <th>3</th>\n",
       "      <td>2.993713</td>\n",
       "    </tr>\n",
       "    <tr>\n",
       "      <th>4</th>\n",
       "      <td>2.418143</td>\n",
       "    </tr>\n",
       "    <tr>\n",
       "      <th>...</th>\n",
       "      <td>...</td>\n",
       "    </tr>\n",
       "    <tr>\n",
       "      <th>1495</th>\n",
       "      <td>0.003487</td>\n",
       "    </tr>\n",
       "    <tr>\n",
       "      <th>1496</th>\n",
       "      <td>0.003487</td>\n",
       "    </tr>\n",
       "    <tr>\n",
       "      <th>1497</th>\n",
       "      <td>0.003487</td>\n",
       "    </tr>\n",
       "    <tr>\n",
       "      <th>1498</th>\n",
       "      <td>0.003487</td>\n",
       "    </tr>\n",
       "    <tr>\n",
       "      <th>1499</th>\n",
       "      <td>0.003487</td>\n",
       "    </tr>\n",
       "  </tbody>\n",
       "</table>\n",
       "<p>1500 rows × 1 columns</p>\n",
       "</div>"
      ],
      "text/plain": [
       "             0\n",
       "0     0.509853\n",
       "1     0.449110\n",
       "2     0.782128\n",
       "3     2.993713\n",
       "4     2.418143\n",
       "...        ...\n",
       "1495  0.003487\n",
       "1496  0.003487\n",
       "1497  0.003487\n",
       "1498  0.003487\n",
       "1499  0.003487\n",
       "\n",
       "[1500 rows x 1 columns]"
      ]
     },
     "execution_count": 35,
     "metadata": {},
     "output_type": "execute_result"
    }
   ],
   "source": [
    "pd.DataFrame(left_mag)"
   ]
  },
  {
   "cell_type": "code",
   "execution_count": 19,
   "id": "ce09a595",
   "metadata": {},
   "outputs": [
    {
     "data": {
      "text/plain": [
       "array([0.00419951, 0.0039704 , 0.00297183, ..., 0.00691535, 0.00542614,\n",
       "       0.        ], dtype=float32)"
      ]
     },
     "execution_count": 19,
     "metadata": {},
     "output_type": "execute_result"
    }
   ],
   "source": [
    "signal"
   ]
  },
  {
   "cell_type": "code",
   "execution_count": null,
   "id": "0ed3a61c",
   "metadata": {},
   "outputs": [],
   "source": []
  }
 ],
 "metadata": {
  "kernelspec": {
   "display_name": "Python 3",
   "language": "python",
   "name": "python3"
  },
  "language_info": {
   "codemirror_mode": {
    "name": "ipython",
    "version": 3
   },
   "file_extension": ".py",
   "mimetype": "text/x-python",
   "name": "python",
   "nbconvert_exporter": "python",
   "pygments_lexer": "ipython3",
   "version": "3.8.5"
  }
 },
 "nbformat": 4,
 "nbformat_minor": 5
}
