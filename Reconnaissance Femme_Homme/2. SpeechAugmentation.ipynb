{
 "cells": [
  {
   "cell_type": "code",
   "execution_count": 1,
   "metadata": {},
   "outputs": [
    {
     "name": "stderr",
     "output_type": "stream",
     "text": [
      "The torchaudio backend is switched to 'soundfile'. Note that 'sox_io' is not supported on Windows.\n",
      "The torchaudio backend is switched to 'soundfile'. Note that 'sox_io' is not supported on Windows.\n",
      "The torchaudio backend is switched to 'soundfile'. Note that 'sox_io' is not supported on Windows.\n"
     ]
    }
   ],
   "source": [
    "from speechbrain.lobes.augment import TimeDomainSpecAugment\n",
    "from speechbrain.lobes.augment import EnvCorrupt\n",
    "from speechbrain.dataio.dataio import read_audio\n",
    "import numpy as np\n",
    "import random\n",
    "import torch\n",
    "import torchaudio\n",
    "import pandas as pd"
   ]
  },
  {
   "cell_type": "code",
   "execution_count": 2,
   "metadata": {
    "colab": {
     "base_uri": "https://localhost:8080/"
    },
    "executionInfo": {
     "elapsed": 9928,
     "status": "ok",
     "timestamp": 1650661232066,
     "user": {
      "displayName": "Thomas Dujardin",
      "userId": "04695086950444309086"
     },
     "user_tz": -120
    },
    "id": "E7D_LtqYEgQ9",
    "outputId": "542a92c8-4228-4b7e-b680-6e691a18ea75"
   },
   "outputs": [],
   "source": [
    "#!pip install speechbrain"
   ]
  },
  {
   "cell_type": "code",
   "execution_count": 3,
   "metadata": {
    "executionInfo": {
     "elapsed": 1379,
     "status": "ok",
     "timestamp": 1650665947419,
     "user": {
      "displayName": "Thomas Dujardin",
      "userId": "04695086950444309086"
     },
     "user_tz": -120
    },
    "id": "Wqx_P8huE1SR"
   },
   "outputs": [],
   "source": [
    "\n",
    "\n",
    "def corrupter(audio_file,save_name):\n",
    "\n",
    "    signal = read_audio(audio_file)\n",
    "    clean = signal.unsqueeze(0)\n",
    "    do_augment = TimeDomainSpecAugment(speeds=[i for i in range(85, 116)],\n",
    "                                    perturb_prob=1, \n",
    "                                    drop_freq_prob=1, \n",
    "                                    drop_chunk_prob=1,\n",
    "                                    drop_chunk_length_low=1000,\n",
    "                                    drop_freq_count_low=0,\n",
    "                                    drop_freq_count_high=np.random.randint(50, size=1)[0],\n",
    "                                    drop_chunk_count_low=0,\n",
    "                                    drop_chunk_count_high=np.random.randint(50, size=1)[0],\n",
    "                                    drop_chunk_length_high=5000)\n",
    "    do_augment_env = EnvCorrupt(reverb_prob=1.0,\n",
    "                              noise_prob=1.0,\n",
    "                              noise_num_workers=np.random.randint(100, size=1)[0]\n",
    "                              )\n",
    "    augmented_signal = do_augment(clean, torch.ones(1))\n",
    "    augmented_signal_env = do_augment_env(augmented_signal, torch.ones(1))\n",
    "    torchaudio.save(save_name, augmented_signal_env, sample_rate=16000)"
   ]
  },
  {
   "cell_type": "code",
   "execution_count": 4,
   "metadata": {},
   "outputs": [
    {
     "name": "stderr",
     "output_type": "stream",
     "text": [
      "C:\\Users\\Paul\\anaconda3\\lib\\site-packages\\IPython\\core\\interactiveshell.py:3444: FutureWarning: In a future version of pandas all arguments of read_csv except for the argument 'filepath_or_buffer' will be keyword-only\n",
      "  exec(code_obj, self.user_global_ns, self.user_ns)\n"
     ]
    }
   ],
   "source": [
    "tab=pd.read_csv('SPEAKERS_TYPE.csv',';')"
   ]
  },
  {
   "cell_type": "code",
   "execution_count": 5,
   "metadata": {},
   "outputs": [
    {
     "data": {
      "text/html": [
       "<div>\n",
       "<style scoped>\n",
       "    .dataframe tbody tr th:only-of-type {\n",
       "        vertical-align: middle;\n",
       "    }\n",
       "\n",
       "    .dataframe tbody tr th {\n",
       "        vertical-align: top;\n",
       "    }\n",
       "\n",
       "    .dataframe thead th {\n",
       "        text-align: right;\n",
       "    }\n",
       "</style>\n",
       "<table border=\"1\" class=\"dataframe\">\n",
       "  <thead>\n",
       "    <tr style=\"text-align: right;\">\n",
       "      <th></th>\n",
       "      <th>ID</th>\n",
       "      <th>Name</th>\n",
       "      <th>ORIGIN</th>\n",
       "      <th>SEX</th>\n",
       "    </tr>\n",
       "  </thead>\n",
       "  <tbody>\n",
       "    <tr>\n",
       "      <th>130</th>\n",
       "      <td>19</td>\n",
       "      <td>LibriSpeech/19-198-0000.flac</td>\n",
       "      <td>TRAIN</td>\n",
       "      <td>F</td>\n",
       "    </tr>\n",
       "    <tr>\n",
       "      <th>168</th>\n",
       "      <td>26</td>\n",
       "      <td>LibriSpeech/26-495-0000.flac</td>\n",
       "      <td>TRAIN</td>\n",
       "      <td>M</td>\n",
       "    </tr>\n",
       "    <tr>\n",
       "      <th>234</th>\n",
       "      <td>27</td>\n",
       "      <td>LibriSpeech/27-123349-0000.flac</td>\n",
       "      <td>TEST</td>\n",
       "      <td>M</td>\n",
       "    </tr>\n",
       "    <tr>\n",
       "      <th>232</th>\n",
       "      <td>32</td>\n",
       "      <td>LibriSpeech/32-21625-0000.flac</td>\n",
       "      <td>TEST</td>\n",
       "      <td>F</td>\n",
       "    </tr>\n",
       "    <tr>\n",
       "      <th>28</th>\n",
       "      <td>39</td>\n",
       "      <td>LibriSpeech/39-121914-0000.flac</td>\n",
       "      <td>TRAIN</td>\n",
       "      <td>F</td>\n",
       "    </tr>\n",
       "    <tr>\n",
       "      <th>...</th>\n",
       "      <td>...</td>\n",
       "      <td>...</td>\n",
       "      <td>...</td>\n",
       "      <td>...</td>\n",
       "    </tr>\n",
       "    <tr>\n",
       "      <th>233</th>\n",
       "      <td>8747</td>\n",
       "      <td>LibriSpeech/8747-293952-0000.flac</td>\n",
       "      <td>TEST</td>\n",
       "      <td>M</td>\n",
       "    </tr>\n",
       "    <tr>\n",
       "      <th>90</th>\n",
       "      <td>8770</td>\n",
       "      <td>LibriSpeech/8770-295462-0000.flac</td>\n",
       "      <td>TRAIN</td>\n",
       "      <td>M</td>\n",
       "    </tr>\n",
       "    <tr>\n",
       "      <th>248</th>\n",
       "      <td>8797</td>\n",
       "      <td>LibriSpeech/8797-294123-0000.flac</td>\n",
       "      <td>TEST</td>\n",
       "      <td>M</td>\n",
       "    </tr>\n",
       "    <tr>\n",
       "      <th>196</th>\n",
       "      <td>8838</td>\n",
       "      <td>LibriSpeech/8838-298545-0000.flac</td>\n",
       "      <td>TRAIN</td>\n",
       "      <td>M</td>\n",
       "    </tr>\n",
       "    <tr>\n",
       "      <th>41</th>\n",
       "      <td>8975</td>\n",
       "      <td>LibriSpeech/8975-270782-0000.flac</td>\n",
       "      <td>TRAIN</td>\n",
       "      <td>F</td>\n",
       "    </tr>\n",
       "  </tbody>\n",
       "</table>\n",
       "<p>251 rows × 4 columns</p>\n",
       "</div>"
      ],
      "text/plain": [
       "       ID                               Name ORIGIN  SEX\n",
       "130    19       LibriSpeech/19-198-0000.flac  TRAIN   F \n",
       "168    26       LibriSpeech/26-495-0000.flac  TRAIN   M \n",
       "234    27    LibriSpeech/27-123349-0000.flac   TEST   M \n",
       "232    32     LibriSpeech/32-21625-0000.flac   TEST   F \n",
       "28     39    LibriSpeech/39-121914-0000.flac  TRAIN   F \n",
       "..    ...                                ...    ...  ...\n",
       "233  8747  LibriSpeech/8747-293952-0000.flac   TEST   M \n",
       "90   8770  LibriSpeech/8770-295462-0000.flac  TRAIN   M \n",
       "248  8797  LibriSpeech/8797-294123-0000.flac   TEST   M \n",
       "196  8838  LibriSpeech/8838-298545-0000.flac  TRAIN   M \n",
       "41   8975  LibriSpeech/8975-270782-0000.flac  TRAIN   F \n",
       "\n",
       "[251 rows x 4 columns]"
      ]
     },
     "execution_count": 5,
     "metadata": {},
     "output_type": "execute_result"
    }
   ],
   "source": [
    "tab.sort_values(by='ID')"
   ]
  },
  {
   "cell_type": "code",
   "execution_count": 6,
   "metadata": {},
   "outputs": [],
   "source": [
    "n0=tab['ID'].max()+1\n",
    "for i in range(len(tab['Name'])):\n",
    "    save_n='LibriSpeech/'+str(n0+i)+'.flac'\n",
    "    corrupter(tab['Name'].iloc[i],save_n)\n",
    "    tab=tab.append([n0+i,save_n,'TRAIN',tab['SEX'].iloc[i]])\n",
    "    "
   ]
  },
  {
   "cell_type": "code",
   "execution_count": 7,
   "metadata": {},
   "outputs": [],
   "source": [
    "tab.to_csv('SPEAKERS_TYPE_extended.csv',';',index=False)"
   ]
  },
  {
   "cell_type": "code",
   "execution_count": null,
   "metadata": {},
   "outputs": [],
   "source": []
  }
 ],
 "metadata": {
  "colab": {
   "authorship_tag": "ABX9TyMlbrlII5ZvZaPjfdwyImlo",
   "collapsed_sections": [],
   "name": "SpeechAugmentation.ipynb",
   "provenance": []
  },
  "kernelspec": {
   "display_name": "Python 3 (ipykernel)",
   "language": "python",
   "name": "python3"
  },
  "language_info": {
   "codemirror_mode": {
    "name": "ipython",
    "version": 3
   },
   "file_extension": ".py",
   "mimetype": "text/x-python",
   "name": "python",
   "nbconvert_exporter": "python",
   "pygments_lexer": "ipython3",
   "version": "3.9.7"
  }
 },
 "nbformat": 4,
 "nbformat_minor": 1
}
