{
 "cells": [
  {
   "cell_type": "code",
   "execution_count": 44,
   "id": "bac6d980",
   "metadata": {},
   "outputs": [],
   "source": [
    "import pandas as pd\n",
    "from librosa.feature import mfcc\n",
    "import librosa\n",
    "import os"
   ]
  },
  {
   "cell_type": "code",
   "execution_count": 63,
   "id": "58526b27",
   "metadata": {},
   "outputs": [],
   "source": [
    "df = pd.read_excel('SPEAKER.xls')\n",
    "df=df[df['SUBSET']==' train-clean-100  '].drop(columns=['SUBSET','NAME','MINUTES'])"
   ]
  },
  {
   "cell_type": "code",
   "execution_count": 68,
   "id": "813fdbed",
   "metadata": {},
   "outputs": [],
   "source": [
    "def associer_nom_fichier(tab):\n",
    "    liste=os.listdir('LibriSpeech')\n",
    "    L=[]\n",
    "    for i in range(len(tab['ID'])):\n",
    "        name=str(tab['ID'].iloc[i])+'-'\n",
    "        L.append('LibriSpeech/'+[x for x in liste if x[:len(name)] ==name][0])\n",
    "    tab['Name']=L\n",
    "    return(tab)"
   ]
  },
  {
   "cell_type": "code",
   "execution_count": 70,
   "id": "5e4e79a5",
   "metadata": {},
   "outputs": [],
   "source": [
    "df = associer_nom_fichier(df)"
   ]
  },
  {
   "cell_type": "code",
   "execution_count": 71,
   "id": "06eae2df",
   "metadata": {},
   "outputs": [
    {
     "data": {
      "text/html": [
       "<div>\n",
       "<style scoped>\n",
       "    .dataframe tbody tr th:only-of-type {\n",
       "        vertical-align: middle;\n",
       "    }\n",
       "\n",
       "    .dataframe tbody tr th {\n",
       "        vertical-align: top;\n",
       "    }\n",
       "\n",
       "    .dataframe thead th {\n",
       "        text-align: right;\n",
       "    }\n",
       "</style>\n",
       "<table border=\"1\" class=\"dataframe\">\n",
       "  <thead>\n",
       "    <tr style=\"text-align: right;\">\n",
       "      <th></th>\n",
       "      <th>ID</th>\n",
       "      <th>SEX</th>\n",
       "      <th>Name</th>\n",
       "    </tr>\n",
       "  </thead>\n",
       "  <tbody>\n",
       "    <tr>\n",
       "      <th>3</th>\n",
       "      <td>19</td>\n",
       "      <td>F</td>\n",
       "      <td>LibriSpeech/19-198-0000.flac</td>\n",
       "    </tr>\n",
       "    <tr>\n",
       "      <th>8</th>\n",
       "      <td>26</td>\n",
       "      <td>M</td>\n",
       "      <td>LibriSpeech/26-495-0000.flac</td>\n",
       "    </tr>\n",
       "    <tr>\n",
       "      <th>9</th>\n",
       "      <td>27</td>\n",
       "      <td>M</td>\n",
       "      <td>LibriSpeech/27-123349-0000.flac</td>\n",
       "    </tr>\n",
       "    <tr>\n",
       "      <th>14</th>\n",
       "      <td>32</td>\n",
       "      <td>F</td>\n",
       "      <td>LibriSpeech/32-21625-0000.flac</td>\n",
       "    </tr>\n",
       "    <tr>\n",
       "      <th>18</th>\n",
       "      <td>39</td>\n",
       "      <td>F</td>\n",
       "      <td>LibriSpeech/39-121914-0000.flac</td>\n",
       "    </tr>\n",
       "    <tr>\n",
       "      <th>...</th>\n",
       "      <td>...</td>\n",
       "      <td>...</td>\n",
       "      <td>...</td>\n",
       "    </tr>\n",
       "    <tr>\n",
       "      <th>2451</th>\n",
       "      <td>8747</td>\n",
       "      <td>M</td>\n",
       "      <td>LibriSpeech/8747-293952-0000.flac</td>\n",
       "    </tr>\n",
       "    <tr>\n",
       "      <th>2455</th>\n",
       "      <td>8770</td>\n",
       "      <td>M</td>\n",
       "      <td>LibriSpeech/8770-295462-0000.flac</td>\n",
       "    </tr>\n",
       "    <tr>\n",
       "      <th>2462</th>\n",
       "      <td>8797</td>\n",
       "      <td>M</td>\n",
       "      <td>LibriSpeech/8797-294123-0000.flac</td>\n",
       "    </tr>\n",
       "    <tr>\n",
       "      <th>2469</th>\n",
       "      <td>8838</td>\n",
       "      <td>M</td>\n",
       "      <td>LibriSpeech/8838-298545-0000.flac</td>\n",
       "    </tr>\n",
       "    <tr>\n",
       "      <th>2479</th>\n",
       "      <td>8975</td>\n",
       "      <td>F</td>\n",
       "      <td>LibriSpeech/8975-270782-0000.flac</td>\n",
       "    </tr>\n",
       "  </tbody>\n",
       "</table>\n",
       "<p>251 rows × 3 columns</p>\n",
       "</div>"
      ],
      "text/plain": [
       "        ID  SEX                               Name\n",
       "3       19   F        LibriSpeech/19-198-0000.flac\n",
       "8       26   M        LibriSpeech/26-495-0000.flac\n",
       "9       27   M     LibriSpeech/27-123349-0000.flac\n",
       "14      32   F      LibriSpeech/32-21625-0000.flac\n",
       "18      39   F     LibriSpeech/39-121914-0000.flac\n",
       "...    ...  ...                                ...\n",
       "2451  8747   M   LibriSpeech/8747-293952-0000.flac\n",
       "2455  8770   M   LibriSpeech/8770-295462-0000.flac\n",
       "2462  8797   M   LibriSpeech/8797-294123-0000.flac\n",
       "2469  8838   M   LibriSpeech/8838-298545-0000.flac\n",
       "2479  8975   F   LibriSpeech/8975-270782-0000.flac\n",
       "\n",
       "[251 rows x 3 columns]"
      ]
     },
     "execution_count": 71,
     "metadata": {},
     "output_type": "execute_result"
    }
   ],
   "source": [
    "df"
   ]
  },
  {
   "cell_type": "code",
   "execution_count": 72,
   "id": "34f8aa8f",
   "metadata": {},
   "outputs": [],
   "source": [
    "from sklearn.model_selection import train_test_split\n",
    "\n",
    "X_train, X_test, y_train, y_test = train_test_split(df.drop(\"SEX\", axis = 1),df[['SEX']],random_state=17, test_size = 0.20)"
   ]
  },
  {
   "cell_type": "code",
   "execution_count": 79,
   "id": "c9782ddf",
   "metadata": {},
   "outputs": [],
   "source": [
    "X_train['ORIGIN'] = 'TRAIN'\n",
    "X_test['ORIGIN']= 'TEST' \n",
    "y_train['ORIGIN'] = 'TRAIN'\n",
    "y_test['ORIGIN']= 'TEST' "
   ]
  },
  {
   "cell_type": "code",
   "execution_count": 84,
   "id": "069e2985",
   "metadata": {},
   "outputs": [],
   "source": [
    "X_train['SEX'] = y_train['SEX']"
   ]
  },
  {
   "cell_type": "code",
   "execution_count": 85,
   "id": "bd68d259",
   "metadata": {},
   "outputs": [],
   "source": [
    "X_test['SEX'] = y_test['SEX']"
   ]
  },
  {
   "cell_type": "code",
   "execution_count": 89,
   "id": "e948f05d",
   "metadata": {},
   "outputs": [],
   "source": [
    "X_train = X_train.append(X_test)"
   ]
  },
  {
   "cell_type": "code",
   "execution_count": null,
   "id": "10c28449",
   "metadata": {},
   "outputs": [],
   "source": []
  },
  {
   "cell_type": "code",
   "execution_count": 78,
   "id": "04ecfd74",
   "metadata": {},
   "outputs": [
    {
     "name": "stdout",
     "output_type": "stream",
     "text": [
      "Object `sklearn.model_selection.train_test_split()` not found.\n"
     ]
    }
   ],
   "source": [
    "?sklearn.model_selection.train_test_split()"
   ]
  },
  {
   "cell_type": "code",
   "execution_count": 91,
   "id": "382924b3",
   "metadata": {},
   "outputs": [],
   "source": [
    "X_train.to_csv(\"SPEAKERS_TYPE.csv\", sep = ';', index = False)"
   ]
  },
  {
   "cell_type": "code",
   "execution_count": 61,
   "id": "7a636704",
   "metadata": {},
   "outputs": [
    {
     "ename": "NameError",
     "evalue": "name 'kcross_validation' is not defined",
     "output_type": "error",
     "traceback": [
      "\u001b[1;31m---------------------------------------------------------------------------\u001b[0m",
      "\u001b[1;31mNameError\u001b[0m                                 Traceback (most recent call last)",
      "\u001b[1;32m<ipython-input-61-868bc88233e3>\u001b[0m in \u001b[0;36m<module>\u001b[1;34m\u001b[0m\n\u001b[1;32m----> 1\u001b[1;33m \u001b[0mkcross_validation\u001b[0m\u001b[1;33m\u001b[0m\u001b[1;33m\u001b[0m\u001b[0m\n\u001b[0m",
      "\u001b[1;31mNameError\u001b[0m: name 'kcross_validation' is not defined"
     ]
    }
   ],
   "source": [
    "kcross_validation"
   ]
  },
  {
   "cell_type": "code",
   "execution_count": null,
   "id": "fb58e159",
   "metadata": {},
   "outputs": [],
   "source": []
  }
 ],
 "metadata": {
  "kernelspec": {
   "display_name": "Python 3",
   "language": "python",
   "name": "python3"
  },
  "language_info": {
   "codemirror_mode": {
    "name": "ipython",
    "version": 3
   },
   "file_extension": ".py",
   "mimetype": "text/x-python",
   "name": "python",
   "nbconvert_exporter": "python",
   "pygments_lexer": "ipython3",
   "version": "3.8.5"
  }
 },
 "nbformat": 4,
 "nbformat_minor": 5
}
