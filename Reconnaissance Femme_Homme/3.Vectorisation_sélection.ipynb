{
 "cells": [
  {
   "cell_type": "code",
   "execution_count": null,
   "id": "8794787d",
   "metadata": {},
   "outputs": [],
   "source": [
    "import pandas as pd\n"
   ]
  },
  {
   "cell_type": "code",
   "execution_count": null,
   "id": "76e41fcd",
   "metadata": {},
   "outputs": [],
   "source": [
    "fft = pd.read_csv('Transfos_data.csv', sep = \";\")\n",
    "fft.head()"
   ]
  },
  {
   "cell_type": "code",
   "execution_count": null,
   "id": "d0a6271b",
   "metadata": {},
   "outputs": [],
   "source": [
    "fft2_men = fft[fft['ORIGIN-'] == 'TRAIN'][fft['SEXE-']==1].drop(['SEXE-', 'ORIGIN-', 'ID'], axis = 1)\n",
    "fft2_women = fft[fft['ORIGIN-'] == 'TRAIN'][fft['SEXE-']==0].drop(['SEXE-', 'ORIGIN-', 'ID'], axis = 1)"
   ]
  },
  {
   "cell_type": "code",
   "execution_count": null,
   "id": "5dd01578",
   "metadata": {},
   "outputs": [],
   "source": [
    "import numpy as np\n",
    "\n",
    "def cdf(sample, x, sort = False):\n",
    "    # Sorts the sample, if unsorted\n",
    "    if sort:\n",
    "        sample.sort()\n",
    "    # Counts how many observations are below x\n",
    "    cdf = sum(sample <= x)\n",
    "    # Divides by the total number of observations\n",
    "    cdf = cdf / len(sample)\n",
    "    return cdf\n",
    "\n",
    "def ks_2samp(sample1, sample2):\n",
    "    # Gets all observations\n",
    "    observations = np.concatenate((sample1, sample2))\n",
    "    observations.sort()\n",
    "    # Sorts the samples\n",
    "    sample1.sort()\n",
    "    sample2.sort()\n",
    "    # Evaluates the KS statistic\n",
    "    D_ks = [] # KS Statistic list\n",
    "    for x in observations:\n",
    "        cdf_sample1 = cdf(sample = sample1, x  = x)\n",
    "        cdf_sample2 = cdf(sample = sample2, x  = x)\n",
    "        D_ks.append(abs(cdf_sample1 - cdf_sample2))\n",
    "    ks_stat = max(D_ks)\n",
    "    # Calculates the P-Value based on the two-sided test\n",
    "    # The P-Value comes from the KS Distribution Survival Function (SF = 1-CDF)\n",
    "    m, n = float(len(sample1)), float(len(sample2))\n",
    "    en = m * n / (m + n)\n",
    "    p_value = stats.kstwo.sf(ks_stat, np.round(en))\n",
    "    return {\"ks_stat\": ks_stat, \"p_value\" : p_value}"
   ]
  },
  {
   "cell_type": "code",
   "execution_count": null,
   "id": "c3b57e97",
   "metadata": {},
   "outputs": [],
   "source": [
    "import scipy.stats as stats\n",
    "col_select = []\n",
    "for col in fft2_men.columns:\n",
    "    y = ks_2samp(fft2_men[col].to_numpy(),fft2_women[col].to_numpy())\n",
    "    # On ne rejette pas l'hypothèse de distribution \n",
    "    if y['p_value']> 0.1:\n",
    "        col_select.append(col)\n",
    "\n"
   ]
  }
 ],
 "metadata": {
  "kernelspec": {
   "display_name": "Python 3",
   "language": "python",
   "name": "python3"
  },
  "language_info": {
   "codemirror_mode": {
    "name": "ipython",
    "version": 3
   },
   "file_extension": ".py",
   "mimetype": "text/x-python",
   "name": "python",
   "nbconvert_exporter": "python",
   "pygments_lexer": "ipython3",
   "version": "3.8.5"
  }
 },
 "nbformat": 4,
 "nbformat_minor": 5
}
