{
  "cells": [
    {
      "cell_type": "code",
      "execution_count": null,
      "metadata": {
        "id": "qvNLWMs6aIo1",
        "outputId": "2c4e0194-a462-4eb5-cf9c-4c37c3eabc39"
      },
      "outputs": [
        {
          "name": "stderr",
          "output_type": "stream",
          "text": [
            "The torchaudio backend is switched to 'soundfile'. Note that 'sox_io' is not supported on Windows.\n",
            "The torchaudio backend is switched to 'soundfile'. Note that 'sox_io' is not supported on Windows.\n",
            "The torchaudio backend is switched to 'soundfile'. Note that 'sox_io' is not supported on Windows.\n"
          ]
        }
      ],
      "source": [
        "#Modules de modification des données d'entraînement (pour en rajouter artificiellement)\n",
        "from speechbrain.lobes.augment import TimeDomainSpecAugment\n",
        "from speechbrain.lobes.augment import EnvCorrupt\n",
        "#Nous utilisons read_audio qui accepte beaucoup d'extensions pour lire les fichiers audio\n",
        "from speechbrain.dataio.dataio import read_audio\n",
        "#Nous utilisons torch afin d'effectuer des opérations sur les fichiers sons (renversement de l'enregistrement, ...)\n",
        "import torch\n",
        "import torchaudio\n",
        "#Modules usuels\n",
        "import numpy as np\n",
        "import pandas as pd"
      ]
    },
    {
      "cell_type": "code",
      "execution_count": null,
      "metadata": {
        "id": "E7D_LtqYEgQ9"
      },
      "outputs": [],
      "source": [
        "#!pip install speechbrain"
      ]
    },
    {
      "cell_type": "markdown",
      "metadata": {
        "id": "6wiIr_bAaIo-"
      },
      "source": [
        "# Modification des pistes audio"
      ]
    },
    {
      "cell_type": "code",
      "execution_count": null,
      "metadata": {
        "id": "Wqx_P8huE1SR"
      },
      "outputs": [],
      "source": [
        "##Fonction corrupter : prend le fichier audio \"audio_file\" et sauvegarde le fichier \"déformé\" sous le nom save_name\n",
        "#Nous utilisons deux modules de Speech Augmentation afin de déformer les fichiers audios (cela afin d'ajouter des échantillons artificiels dans l'ensemble de training) :\n",
        "#  - TimeDomainSpecAugment, qui accélère, ralentit et fait des coupures aléatoires sur un fichier son ;\n",
        "#  - EnvCorrupt, qui ajoute du bruit de fond aux enregistrement.\n",
        "\n",
        "def corrupter(audio_file,\n",
        "              save_name):\n",
        "\n",
        "    signal = read_audio(audio_file)\n",
        "    clean = signal.unsqueeze(0)\n",
        "    # Modifications temporelles aléatoires de l'enregistrement\n",
        "    do_augment = TimeDomainSpecAugment(speeds=[i for i in range(85, 116)],\n",
        "                                    perturb_prob=1, \n",
        "                                    drop_freq_prob=1, \n",
        "                                    drop_chunk_prob=1,\n",
        "                                    drop_chunk_length_low=1000,\n",
        "                                    drop_freq_count_low=0,\n",
        "                                    drop_freq_count_high=np.random.randint(50, size=1)[0],\n",
        "                                    drop_chunk_count_low=0,\n",
        "                                    drop_chunk_count_high=np.random.randint(50, size=1)[0],\n",
        "                                    drop_chunk_length_high=5000)\n",
        "    # Ajout de bruits de fond\n",
        "    do_augment_env = EnvCorrupt(reverb_prob=1.0,\n",
        "                              noise_prob=1.0,\n",
        "                              noise_num_workers=np.random.randint(100, size=1)[0]\n",
        "                              )\n",
        "    \n",
        "    # Fait passer le fichier audio_file par la pipeline ci-dessus\n",
        "    augmented_signal = do_augment(clean, torch.ones(1))\n",
        "    augmented_signal_env = do_augment_env(augmented_signal, torch.ones(1))\n",
        "    # Sauvegarde du fichier sous le nom \"save_name\"\n",
        "    torchaudio.save(save_name, augmented_signal_env, sample_rate=16000)"
      ]
    },
    {
      "cell_type": "code",
      "execution_count": null,
      "metadata": {
        "id": "EACfPSlnaIpD",
        "outputId": "9c580427-c54f-421e-99d4-5d4eb111bdd0"
      },
      "outputs": [
        {
          "name": "stderr",
          "output_type": "stream",
          "text": [
            "C:\\Users\\Paul\\anaconda3\\lib\\site-packages\\IPython\\core\\interactiveshell.py:3444: FutureWarning: In a future version of pandas all arguments of read_csv except for the argument 'filepath_or_buffer' will be keyword-only\n",
            "  exec(code_obj, self.user_global_ns, self.user_ns)\n"
          ]
        },
        {
          "data": {
            "text/html": [
              "<div>\n",
              "<style scoped>\n",
              "    .dataframe tbody tr th:only-of-type {\n",
              "        vertical-align: middle;\n",
              "    }\n",
              "\n",
              "    .dataframe tbody tr th {\n",
              "        vertical-align: top;\n",
              "    }\n",
              "\n",
              "    .dataframe thead th {\n",
              "        text-align: right;\n",
              "    }\n",
              "</style>\n",
              "<table border=\"1\" class=\"dataframe\">\n",
              "  <thead>\n",
              "    <tr style=\"text-align: right;\">\n",
              "      <th></th>\n",
              "      <th>ID</th>\n",
              "      <th>Name</th>\n",
              "      <th>SEX</th>\n",
              "    </tr>\n",
              "    <tr>\n",
              "      <th>ORIGIN</th>\n",
              "      <th></th>\n",
              "      <th></th>\n",
              "      <th></th>\n",
              "    </tr>\n",
              "  </thead>\n",
              "  <tbody>\n",
              "    <tr>\n",
              "      <th>TEST</th>\n",
              "      <td>50</td>\n",
              "      <td>50</td>\n",
              "      <td>50</td>\n",
              "    </tr>\n",
              "    <tr>\n",
              "      <th>TRAIN</th>\n",
              "      <td>201</td>\n",
              "      <td>201</td>\n",
              "      <td>201</td>\n",
              "    </tr>\n",
              "  </tbody>\n",
              "</table>\n",
              "</div>"
            ],
            "text/plain": [
              "         ID  Name  SEX\n",
              "ORIGIN                \n",
              "TEST     50    50   50\n",
              "TRAIN   201   201  201"
            ]
          },
          "execution_count": 4,
          "metadata": {},
          "output_type": "execute_result"
        }
      ],
      "source": [
        "# \"tab\" est le .csv des labels, répartis en un ensemble de Train et un ensemble de Test obtenus par RepeatedKFold\n",
        "labels=pd.read_csv('SPEAKERS_TYPE.csv',';')\n",
        "labels.groupby('ORIGIN').count()"
      ]
    },
    {
      "cell_type": "code",
      "execution_count": null,
      "metadata": {
        "id": "GYLtfizMaIpF"
      },
      "outputs": [],
      "source": [
        "#tableau des labels appartenant à train\n",
        "train_labels=labels[labels['ORIGIN']=='TRAIN']"
      ]
    },
    {
      "cell_type": "code",
      "execution_count": null,
      "metadata": {
        "id": "b83SAQIKaIpI",
        "outputId": "89898f5b-9f4d-4a64-a02e-8bfcd8dcbae1"
      },
      "outputs": [
        {
          "data": {
            "text/html": [
              "<div>\n",
              "<style scoped>\n",
              "    .dataframe tbody tr th:only-of-type {\n",
              "        vertical-align: middle;\n",
              "    }\n",
              "\n",
              "    .dataframe tbody tr th {\n",
              "        vertical-align: top;\n",
              "    }\n",
              "\n",
              "    .dataframe thead th {\n",
              "        text-align: right;\n",
              "    }\n",
              "</style>\n",
              "<table border=\"1\" class=\"dataframe\">\n",
              "  <thead>\n",
              "    <tr style=\"text-align: right;\">\n",
              "      <th></th>\n",
              "      <th>ID</th>\n",
              "      <th>Name</th>\n",
              "      <th>ORIGIN</th>\n",
              "      <th>SEX</th>\n",
              "    </tr>\n",
              "  </thead>\n",
              "  <tbody>\n",
              "    <tr>\n",
              "      <th>0</th>\n",
              "      <td>19</td>\n",
              "      <td>LibriSpeech/19-198-0000.flac</td>\n",
              "      <td>TRAIN</td>\n",
              "      <td>F</td>\n",
              "    </tr>\n",
              "    <tr>\n",
              "      <th>1</th>\n",
              "      <td>26</td>\n",
              "      <td>LibriSpeech/26-495-0000.flac</td>\n",
              "      <td>TRAIN</td>\n",
              "      <td>M</td>\n",
              "    </tr>\n",
              "    <tr>\n",
              "      <th>2</th>\n",
              "      <td>27</td>\n",
              "      <td>LibriSpeech/27-123349-0000.flac</td>\n",
              "      <td>TRAIN</td>\n",
              "      <td>M</td>\n",
              "    </tr>\n",
              "    <tr>\n",
              "      <th>3</th>\n",
              "      <td>32</td>\n",
              "      <td>LibriSpeech/32-21625-0000.flac</td>\n",
              "      <td>TRAIN</td>\n",
              "      <td>F</td>\n",
              "    </tr>\n",
              "    <tr>\n",
              "      <th>4</th>\n",
              "      <td>40</td>\n",
              "      <td>LibriSpeech/40-121026-0000.flac</td>\n",
              "      <td>TRAIN</td>\n",
              "      <td>F</td>\n",
              "    </tr>\n",
              "    <tr>\n",
              "      <th>...</th>\n",
              "      <td>...</td>\n",
              "      <td>...</td>\n",
              "      <td>...</td>\n",
              "      <td>...</td>\n",
              "    </tr>\n",
              "    <tr>\n",
              "      <th>196</th>\n",
              "      <td>8747</td>\n",
              "      <td>LibriSpeech/8747-293952-0000.flac</td>\n",
              "      <td>TRAIN</td>\n",
              "      <td>M</td>\n",
              "    </tr>\n",
              "    <tr>\n",
              "      <th>197</th>\n",
              "      <td>8770</td>\n",
              "      <td>LibriSpeech/8770-295462-0000.flac</td>\n",
              "      <td>TRAIN</td>\n",
              "      <td>M</td>\n",
              "    </tr>\n",
              "    <tr>\n",
              "      <th>198</th>\n",
              "      <td>8797</td>\n",
              "      <td>LibriSpeech/8797-294123-0000.flac</td>\n",
              "      <td>TRAIN</td>\n",
              "      <td>M</td>\n",
              "    </tr>\n",
              "    <tr>\n",
              "      <th>199</th>\n",
              "      <td>8838</td>\n",
              "      <td>LibriSpeech/8838-298545-0000.flac</td>\n",
              "      <td>TRAIN</td>\n",
              "      <td>M</td>\n",
              "    </tr>\n",
              "    <tr>\n",
              "      <th>200</th>\n",
              "      <td>8975</td>\n",
              "      <td>LibriSpeech/8975-270782-0000.flac</td>\n",
              "      <td>TRAIN</td>\n",
              "      <td>F</td>\n",
              "    </tr>\n",
              "  </tbody>\n",
              "</table>\n",
              "<p>201 rows × 4 columns</p>\n",
              "</div>"
            ],
            "text/plain": [
              "       ID                               Name ORIGIN  SEX\n",
              "0      19       LibriSpeech/19-198-0000.flac  TRAIN   F \n",
              "1      26       LibriSpeech/26-495-0000.flac  TRAIN   M \n",
              "2      27    LibriSpeech/27-123349-0000.flac  TRAIN   M \n",
              "3      32     LibriSpeech/32-21625-0000.flac  TRAIN   F \n",
              "4      40    LibriSpeech/40-121026-0000.flac  TRAIN   F \n",
              "..    ...                                ...    ...  ...\n",
              "196  8747  LibriSpeech/8747-293952-0000.flac  TRAIN   M \n",
              "197  8770  LibriSpeech/8770-295462-0000.flac  TRAIN   M \n",
              "198  8797  LibriSpeech/8797-294123-0000.flac  TRAIN   M \n",
              "199  8838  LibriSpeech/8838-298545-0000.flac  TRAIN   M \n",
              "200  8975  LibriSpeech/8975-270782-0000.flac  TRAIN   F \n",
              "\n",
              "[201 rows x 4 columns]"
            ]
          },
          "execution_count": 7,
          "metadata": {},
          "output_type": "execute_result"
        }
      ],
      "source": [
        "train_labels.sort_values(by='ID')"
      ]
    },
    {
      "cell_type": "code",
      "execution_count": null,
      "metadata": {
        "id": "VjgPfekwaIpJ"
      },
      "outputs": [],
      "source": [
        "# On utilise la fonction corrupter sur les données de training, pour en augmenter le nombre artificiellement\n",
        "n0=labels['ID'].max()+1\n",
        "for i in range(len(train_labels['Name'])):\n",
        "    save_n='LibriSpeech/'+str(n0+i)+'.flac'\n",
        "    corrupter(train_labels['Name'].iloc[i],save_n)\n",
        "    L=pd.DataFrame([[n0+i,save_n,'TRAIN',train_labels['SEX'].iloc[i]]],columns=['ID','Name','ORIGIN','SEX'])\n",
        "    train_labels=train_labels.append(L,ignore_index=True)"
      ]
    },
    {
      "cell_type": "code",
      "execution_count": null,
      "metadata": {
        "id": "gixrksPIaIpL"
      },
      "outputs": [],
      "source": [
        "labels=labels[labels['ORIGIN']=='TEST'].append(train_labels)"
      ]
    },
    {
      "cell_type": "code",
      "execution_count": null,
      "metadata": {
        "id": "WIM0hC27aIpL"
      },
      "outputs": [],
      "source": [
        "labels.to_csv('SPEAKERS_TYPE_extended.csv',';',index=False) # Nouveau tableau avec les ID des sons déformés ajoutés dans l'ensemble de training"
      ]
    },
    {
      "cell_type": "markdown",
      "metadata": {
        "id": "ZVaUJh85aIpM"
      },
      "source": [
        "## Inversion des pistes audios pour rajouter des audios"
      ]
    },
    {
      "cell_type": "code",
      "execution_count": null,
      "metadata": {
        "id": "t3sXROLJaIpN",
        "outputId": "56eba742-1118-48cd-8bc8-b53b6de17396"
      },
      "outputs": [
        {
          "name": "stderr",
          "output_type": "stream",
          "text": [
            "C:\\Users\\Paul\\anaconda3\\lib\\site-packages\\IPython\\core\\interactiveshell.py:3444: FutureWarning: In a future version of pandas all arguments of read_csv except for the argument 'filepath_or_buffer' will be keyword-only\n",
            "  exec(code_obj, self.user_global_ns, self.user_ns)\n"
          ]
        },
        {
          "data": {
            "text/html": [
              "<div>\n",
              "<style scoped>\n",
              "    .dataframe tbody tr th:only-of-type {\n",
              "        vertical-align: middle;\n",
              "    }\n",
              "\n",
              "    .dataframe tbody tr th {\n",
              "        vertical-align: top;\n",
              "    }\n",
              "\n",
              "    .dataframe thead th {\n",
              "        text-align: right;\n",
              "    }\n",
              "</style>\n",
              "<table border=\"1\" class=\"dataframe\">\n",
              "  <thead>\n",
              "    <tr style=\"text-align: right;\">\n",
              "      <th></th>\n",
              "      <th>ID</th>\n",
              "      <th>Name</th>\n",
              "      <th>ORIGIN</th>\n",
              "      <th>SEX</th>\n",
              "    </tr>\n",
              "  </thead>\n",
              "  <tbody>\n",
              "    <tr>\n",
              "      <th>50</th>\n",
              "      <td>19</td>\n",
              "      <td>LibriSpeech/19-198-0000.flac</td>\n",
              "      <td>TRAIN</td>\n",
              "      <td>F</td>\n",
              "    </tr>\n",
              "    <tr>\n",
              "      <th>51</th>\n",
              "      <td>26</td>\n",
              "      <td>LibriSpeech/26-495-0000.flac</td>\n",
              "      <td>TRAIN</td>\n",
              "      <td>M</td>\n",
              "    </tr>\n",
              "    <tr>\n",
              "      <th>52</th>\n",
              "      <td>27</td>\n",
              "      <td>LibriSpeech/27-123349-0000.flac</td>\n",
              "      <td>TRAIN</td>\n",
              "      <td>M</td>\n",
              "    </tr>\n",
              "    <tr>\n",
              "      <th>53</th>\n",
              "      <td>32</td>\n",
              "      <td>LibriSpeech/32-21625-0000.flac</td>\n",
              "      <td>TRAIN</td>\n",
              "      <td>F</td>\n",
              "    </tr>\n",
              "    <tr>\n",
              "      <th>54</th>\n",
              "      <td>40</td>\n",
              "      <td>LibriSpeech/40-121026-0000.flac</td>\n",
              "      <td>TRAIN</td>\n",
              "      <td>F</td>\n",
              "    </tr>\n",
              "    <tr>\n",
              "      <th>...</th>\n",
              "      <td>...</td>\n",
              "      <td>...</td>\n",
              "      <td>...</td>\n",
              "      <td>...</td>\n",
              "    </tr>\n",
              "    <tr>\n",
              "      <th>447</th>\n",
              "      <td>9172</td>\n",
              "      <td>LibriSpeech/9172.flac</td>\n",
              "      <td>TRAIN</td>\n",
              "      <td>M</td>\n",
              "    </tr>\n",
              "    <tr>\n",
              "      <th>448</th>\n",
              "      <td>9173</td>\n",
              "      <td>LibriSpeech/9173.flac</td>\n",
              "      <td>TRAIN</td>\n",
              "      <td>M</td>\n",
              "    </tr>\n",
              "    <tr>\n",
              "      <th>449</th>\n",
              "      <td>9174</td>\n",
              "      <td>LibriSpeech/9174.flac</td>\n",
              "      <td>TRAIN</td>\n",
              "      <td>M</td>\n",
              "    </tr>\n",
              "    <tr>\n",
              "      <th>450</th>\n",
              "      <td>9175</td>\n",
              "      <td>LibriSpeech/9175.flac</td>\n",
              "      <td>TRAIN</td>\n",
              "      <td>M</td>\n",
              "    </tr>\n",
              "    <tr>\n",
              "      <th>451</th>\n",
              "      <td>9176</td>\n",
              "      <td>LibriSpeech/9176.flac</td>\n",
              "      <td>TRAIN</td>\n",
              "      <td>F</td>\n",
              "    </tr>\n",
              "  </tbody>\n",
              "</table>\n",
              "<p>402 rows × 4 columns</p>\n",
              "</div>"
            ],
            "text/plain": [
              "       ID                             Name ORIGIN  SEX\n",
              "50     19     LibriSpeech/19-198-0000.flac  TRAIN   F \n",
              "51     26     LibriSpeech/26-495-0000.flac  TRAIN   M \n",
              "52     27  LibriSpeech/27-123349-0000.flac  TRAIN   M \n",
              "53     32   LibriSpeech/32-21625-0000.flac  TRAIN   F \n",
              "54     40  LibriSpeech/40-121026-0000.flac  TRAIN   F \n",
              "..    ...                              ...    ...  ...\n",
              "447  9172            LibriSpeech/9172.flac  TRAIN   M \n",
              "448  9173            LibriSpeech/9173.flac  TRAIN   M \n",
              "449  9174            LibriSpeech/9174.flac  TRAIN   M \n",
              "450  9175            LibriSpeech/9175.flac  TRAIN   M \n",
              "451  9176            LibriSpeech/9176.flac  TRAIN   F \n",
              "\n",
              "[402 rows x 4 columns]"
            ]
          },
          "execution_count": 12,
          "metadata": {},
          "output_type": "execute_result"
        }
      ],
      "source": [
        "labels=pd.read_csv('SPEAKERS_TYPE_extended.csv',';')\n",
        "train_labels=labels[labels['ORIGIN']=='TRAIN']"
      ]
    },
    {
      "cell_type": "code",
      "execution_count": null,
      "metadata": {
        "id": "OZTTLW1saIpO"
      },
      "outputs": [],
      "source": [
        "##Fonction reverser : prend le fichier audio \"audio_file\" et sauvegarde le fichier mis à l'envers sous le nom save_name\n",
        "\n",
        "def reverser(audio_file,\n",
        "             save_name):\n",
        "    audio_normal = read_audio(audio_file)\n",
        "    clean = audio_normal.unsqueeze(0)\n",
        "    # Prend le tenseur torch correspondant à clean, et le retourne\n",
        "    rTensor = torch.fliplr(clean)\n",
        "    # Sauvegarde le fichier audio retourné\n",
        "    torchaudio.save(save_name, rTensor, sample_rate=16000)"
      ]
    },
    {
      "cell_type": "code",
      "execution_count": null,
      "metadata": {
        "id": "5mL54Lo0aIpO"
      },
      "outputs": [],
      "source": [
        "# Ajout des nouveaux échantillons dans la base de training\n",
        "\n",
        "n0=labels['ID'].max()+1\n",
        "for i in range(len(train_labels['Name'])):\n",
        "    save_n='LibriSpeech/'+str(n0+i)+'.flac'\n",
        "    reverser(train_labels['Name'].iloc[i],save_n)\n",
        "    L=pd.DataFrame([[n0+i,save_n,'TRAIN',tab2['SEX'].iloc[i]]],columns=['ID','Name','ORIGIN','SEX'])\n",
        "    train_labels=train_labels.append(L,ignore_index=True)"
      ]
    },
    {
      "cell_type": "code",
      "execution_count": null,
      "metadata": {
        "id": "zEEkC6r7aIpP"
      },
      "outputs": [],
      "source": [
        "labels=labels[labels['ORIGIN']=='TEST'].append(train_labels)"
      ]
    },
    {
      "cell_type": "code",
      "execution_count": null,
      "metadata": {
        "id": "30CdAPBXaIpR"
      },
      "outputs": [],
      "source": [
        "labels.to_csv('SPEAKERS_TYPE_extended.csv',';',index=False) # On quadruple ainsi artificiellement l'ensemble de train"
      ]
    }
  ],
  "metadata": {
    "colab": {
      "collapsed_sections": [],
      "name": "2. SpeechAugmentation.ipynb",
      "provenance": []
    },
    "kernelspec": {
      "display_name": "Python 3 (ipykernel)",
      "language": "python",
      "name": "python3"
    },
    "language_info": {
      "codemirror_mode": {
        "name": "ipython",
        "version": 3
      },
      "file_extension": ".py",
      "mimetype": "text/x-python",
      "name": "python",
      "nbconvert_exporter": "python",
      "pygments_lexer": "ipython3",
      "version": "3.9.7"
    }
  },
  "nbformat": 4,
  "nbformat_minor": 0
}