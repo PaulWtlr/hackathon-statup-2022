{
 "cells": [
  {
   "cell_type": "code",
   "execution_count": 1,
   "id": "bac6d980",
   "metadata": {},
   "outputs": [],
   "source": [
    "import pandas as pd\n",
    "import os\n",
    "from sklearn.model_selection import RepeatedKFold"
   ]
  },
  {
   "cell_type": "code",
   "execution_count": 2,
   "id": "58526b27",
   "metadata": {},
   "outputs": [],
   "source": [
    "df = pd.read_excel('SPEAKER.xls')\n",
    "df=df[df['SUBSET']==' train-clean-100  '].drop(columns=['SUBSET','NAME','MINUTES'])"
   ]
  },
  {
   "cell_type": "code",
   "execution_count": 3,
   "id": "c19afabb",
   "metadata": {},
   "outputs": [],
   "source": [
    "#Association de l'ID du fichier audio avec son nom du fichier\n",
    "def associer_nom_fichier(tab):\n",
    "    liste=os.listdir('LibriSpeech')\n",
    "    L=[]\n",
    "    for i in range(len(tab['ID'])):\n",
    "        name=str(tab['ID'].iloc[i])+'-'\n",
    "        L.append('LibriSpeech/'+[x for x in liste if x[:len(name)] ==name][0])\n",
    "    tab['Name']=L\n",
    "    return(tab)"
   ]
  },
  {
   "cell_type": "code",
   "execution_count": 4,
   "id": "0f017e52",
   "metadata": {},
   "outputs": [],
   "source": [
    "df = associer_nom_fichier(df)"
   ]
  },
  {
   "cell_type": "code",
   "execution_count": 5,
   "id": "441f256e",
   "metadata": {},
   "outputs": [
    {
     "data": {
      "text/html": [
       "<div>\n",
       "<style scoped>\n",
       "    .dataframe tbody tr th:only-of-type {\n",
       "        vertical-align: middle;\n",
       "    }\n",
       "\n",
       "    .dataframe tbody tr th {\n",
       "        vertical-align: top;\n",
       "    }\n",
       "\n",
       "    .dataframe thead th {\n",
       "        text-align: right;\n",
       "    }\n",
       "</style>\n",
       "<table border=\"1\" class=\"dataframe\">\n",
       "  <thead>\n",
       "    <tr style=\"text-align: right;\">\n",
       "      <th></th>\n",
       "      <th>ID</th>\n",
       "      <th>SEX</th>\n",
       "      <th>Name</th>\n",
       "    </tr>\n",
       "  </thead>\n",
       "  <tbody>\n",
       "    <tr>\n",
       "      <th>3</th>\n",
       "      <td>19</td>\n",
       "      <td>F</td>\n",
       "      <td>LibriSpeech/19-198-0000.flac</td>\n",
       "    </tr>\n",
       "    <tr>\n",
       "      <th>8</th>\n",
       "      <td>26</td>\n",
       "      <td>M</td>\n",
       "      <td>LibriSpeech/26-495-0000.flac</td>\n",
       "    </tr>\n",
       "    <tr>\n",
       "      <th>9</th>\n",
       "      <td>27</td>\n",
       "      <td>M</td>\n",
       "      <td>LibriSpeech/27-123349-0000.flac</td>\n",
       "    </tr>\n",
       "    <tr>\n",
       "      <th>14</th>\n",
       "      <td>32</td>\n",
       "      <td>F</td>\n",
       "      <td>LibriSpeech/32-21625-0000.flac</td>\n",
       "    </tr>\n",
       "    <tr>\n",
       "      <th>18</th>\n",
       "      <td>39</td>\n",
       "      <td>F</td>\n",
       "      <td>LibriSpeech/39-121914-0000.flac</td>\n",
       "    </tr>\n",
       "    <tr>\n",
       "      <th>...</th>\n",
       "      <td>...</td>\n",
       "      <td>...</td>\n",
       "      <td>...</td>\n",
       "    </tr>\n",
       "    <tr>\n",
       "      <th>2451</th>\n",
       "      <td>8747</td>\n",
       "      <td>M</td>\n",
       "      <td>LibriSpeech/8747-293952-0000.flac</td>\n",
       "    </tr>\n",
       "    <tr>\n",
       "      <th>2455</th>\n",
       "      <td>8770</td>\n",
       "      <td>M</td>\n",
       "      <td>LibriSpeech/8770-295462-0000.flac</td>\n",
       "    </tr>\n",
       "    <tr>\n",
       "      <th>2462</th>\n",
       "      <td>8797</td>\n",
       "      <td>M</td>\n",
       "      <td>LibriSpeech/8797-294123-0000.flac</td>\n",
       "    </tr>\n",
       "    <tr>\n",
       "      <th>2469</th>\n",
       "      <td>8838</td>\n",
       "      <td>M</td>\n",
       "      <td>LibriSpeech/8838-298545-0000.flac</td>\n",
       "    </tr>\n",
       "    <tr>\n",
       "      <th>2479</th>\n",
       "      <td>8975</td>\n",
       "      <td>F</td>\n",
       "      <td>LibriSpeech/8975-270782-0000.flac</td>\n",
       "    </tr>\n",
       "  </tbody>\n",
       "</table>\n",
       "<p>251 rows × 3 columns</p>\n",
       "</div>"
      ],
      "text/plain": [
       "        ID  SEX                               Name\n",
       "3       19   F        LibriSpeech/19-198-0000.flac\n",
       "8       26   M        LibriSpeech/26-495-0000.flac\n",
       "9       27   M     LibriSpeech/27-123349-0000.flac\n",
       "14      32   F      LibriSpeech/32-21625-0000.flac\n",
       "18      39   F     LibriSpeech/39-121914-0000.flac\n",
       "...    ...  ...                                ...\n",
       "2451  8747   M   LibriSpeech/8747-293952-0000.flac\n",
       "2455  8770   M   LibriSpeech/8770-295462-0000.flac\n",
       "2462  8797   M   LibriSpeech/8797-294123-0000.flac\n",
       "2469  8838   M   LibriSpeech/8838-298545-0000.flac\n",
       "2479  8975   F   LibriSpeech/8975-270782-0000.flac\n",
       "\n",
       "[251 rows x 3 columns]"
      ]
     },
     "execution_count": 5,
     "metadata": {},
     "output_type": "execute_result"
    }
   ],
   "source": [
    "df"
   ]
  },
  {
   "cell_type": "code",
   "execution_count": 6,
   "id": "58b787e0",
   "metadata": {},
   "outputs": [],
   "source": [
    "#Création d'un dataset train et test équilibrés\n",
    "cv = RepeatedKFold(n_splits=5, n_repeats=3, random_state=0)\n",
    "\n",
    "for train_index, test_index in cv.split(df.drop(\"SEX\", axis = 1)):\n",
    "    X_train, X_test = df.drop(\"SEX\", axis = 1).iloc[train_index], df.drop(\"SEX\", axis = 1).iloc[test_index]\n",
    "    y_train, y_test = df[['SEX']].iloc[train_index], df[['SEX']].iloc[test_index]\n"
   ]
  },
  {
   "cell_type": "code",
   "execution_count": 7,
   "id": "54bba43f",
   "metadata": {},
   "outputs": [],
   "source": [
    "# Construction d'une nouvelle colonne indiquant si l'observation est dans le train ou le test\n",
    "X_train['ORIGIN'] = 'TRAIN'\n",
    "X_test['ORIGIN']= 'TEST' \n",
    "X_train['SEX'] = y_train['SEX']\n",
    "X_test['SEX'] = y_test['SEX']\n",
    "X_train = X_train.append(X_test)"
   ]
  },
  {
   "cell_type": "code",
   "execution_count": 11,
   "id": "e3bd9216",
   "metadata": {},
   "outputs": [
    {
     "data": {
      "text/html": [
       "<div>\n",
       "<style scoped>\n",
       "    .dataframe tbody tr th:only-of-type {\n",
       "        vertical-align: middle;\n",
       "    }\n",
       "\n",
       "    .dataframe tbody tr th {\n",
       "        vertical-align: top;\n",
       "    }\n",
       "\n",
       "    .dataframe thead th {\n",
       "        text-align: right;\n",
       "    }\n",
       "</style>\n",
       "<table border=\"1\" class=\"dataframe\">\n",
       "  <thead>\n",
       "    <tr style=\"text-align: right;\">\n",
       "      <th></th>\n",
       "      <th></th>\n",
       "      <th>ID</th>\n",
       "      <th>Name</th>\n",
       "    </tr>\n",
       "    <tr>\n",
       "      <th>ORIGIN</th>\n",
       "      <th>SEX</th>\n",
       "      <th></th>\n",
       "      <th></th>\n",
       "    </tr>\n",
       "  </thead>\n",
       "  <tbody>\n",
       "    <tr>\n",
       "      <th rowspan=\"2\" valign=\"top\">TEST</th>\n",
       "      <th>F</th>\n",
       "      <td>27</td>\n",
       "      <td>27</td>\n",
       "    </tr>\n",
       "    <tr>\n",
       "      <th>M</th>\n",
       "      <td>23</td>\n",
       "      <td>23</td>\n",
       "    </tr>\n",
       "    <tr>\n",
       "      <th rowspan=\"2\" valign=\"top\">TRAIN</th>\n",
       "      <th>F</th>\n",
       "      <td>98</td>\n",
       "      <td>98</td>\n",
       "    </tr>\n",
       "    <tr>\n",
       "      <th>M</th>\n",
       "      <td>103</td>\n",
       "      <td>103</td>\n",
       "    </tr>\n",
       "  </tbody>\n",
       "</table>\n",
       "</div>"
      ],
      "text/plain": [
       "             ID  Name\n",
       "ORIGIN SEX           \n",
       "TEST    F    27    27\n",
       "        M    23    23\n",
       "TRAIN   F    98    98\n",
       "        M   103   103"
      ]
     },
     "execution_count": 11,
     "metadata": {},
     "output_type": "execute_result"
    }
   ],
   "source": [
    "#Vérification équilibre\n",
    "X_train.groupby(['ORIGIN', 'SEX']).count()"
   ]
  },
  {
   "cell_type": "code",
   "execution_count": 13,
   "id": "b981261f",
   "metadata": {},
   "outputs": [],
   "source": [
    "#Exportation\n",
    "X_train.to_csv(\"SPEAKERS_TYPE.csv\", sep = ';', index = False)"
   ]
  }
 ],
 "metadata": {
  "kernelspec": {
   "display_name": "Python 3",
   "language": "python",
   "name": "python3"
  },
  "language_info": {
   "codemirror_mode": {
    "name": "ipython",
    "version": 3
   },
   "file_extension": ".py",
   "mimetype": "text/x-python",
   "name": "python",
   "nbconvert_exporter": "python",
   "pygments_lexer": "ipython3",
   "version": "3.8.5"
  }
 },
 "nbformat": 4,
 "nbformat_minor": 5
}
