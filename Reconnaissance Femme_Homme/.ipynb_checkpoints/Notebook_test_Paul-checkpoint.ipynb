{
 "cells": [
  {
   "cell_type": "code",
   "execution_count": 1,
   "id": "47d5f2dc",
   "metadata": {},
   "outputs": [],
   "source": [
    "import pandas as pd"
   ]
  },
  {
   "cell_type": "code",
   "execution_count": 2,
   "id": "7b543355",
   "metadata": {},
   "outputs": [
    {
     "data": {
      "text/html": [
       "<div>\n",
       "<style scoped>\n",
       "    .dataframe tbody tr th:only-of-type {\n",
       "        vertical-align: middle;\n",
       "    }\n",
       "\n",
       "    .dataframe tbody tr th {\n",
       "        vertical-align: top;\n",
       "    }\n",
       "\n",
       "    .dataframe thead th {\n",
       "        text-align: right;\n",
       "    }\n",
       "</style>\n",
       "<table border=\"1\" class=\"dataframe\">\n",
       "  <thead>\n",
       "    <tr style=\"text-align: right;\">\n",
       "      <th></th>\n",
       "      <th>ID</th>\n",
       "      <th>SEX</th>\n",
       "      <th>SUBSET</th>\n",
       "      <th>MINUTES</th>\n",
       "      <th>NAME</th>\n",
       "    </tr>\n",
       "  </thead>\n",
       "  <tbody>\n",
       "    <tr>\n",
       "      <th>3</th>\n",
       "      <td>19</td>\n",
       "      <td>F</td>\n",
       "      <td>train-clean-100</td>\n",
       "      <td>25.19</td>\n",
       "      <td>Kara Shallenberg</td>\n",
       "    </tr>\n",
       "    <tr>\n",
       "      <th>8</th>\n",
       "      <td>26</td>\n",
       "      <td>M</td>\n",
       "      <td>train-clean-100</td>\n",
       "      <td>25.08</td>\n",
       "      <td>Denny Sayers</td>\n",
       "    </tr>\n",
       "    <tr>\n",
       "      <th>9</th>\n",
       "      <td>27</td>\n",
       "      <td>M</td>\n",
       "      <td>train-clean-100</td>\n",
       "      <td>20.14</td>\n",
       "      <td>Sean McKinley</td>\n",
       "    </tr>\n",
       "    <tr>\n",
       "      <th>14</th>\n",
       "      <td>32</td>\n",
       "      <td>F</td>\n",
       "      <td>train-clean-100</td>\n",
       "      <td>24.01</td>\n",
       "      <td>Betsie Bush</td>\n",
       "    </tr>\n",
       "    <tr>\n",
       "      <th>18</th>\n",
       "      <td>39</td>\n",
       "      <td>F</td>\n",
       "      <td>train-clean-100</td>\n",
       "      <td>25.05</td>\n",
       "      <td>Sherry Crowther</td>\n",
       "    </tr>\n",
       "    <tr>\n",
       "      <th>19</th>\n",
       "      <td>40</td>\n",
       "      <td>F</td>\n",
       "      <td>train-clean-100</td>\n",
       "      <td>25.04</td>\n",
       "      <td>Vicki Barbour</td>\n",
       "    </tr>\n",
       "    <tr>\n",
       "      <th>32</th>\n",
       "      <td>60</td>\n",
       "      <td>M</td>\n",
       "      <td>train-clean-100</td>\n",
       "      <td>20.18</td>\n",
       "      <td></td>\n",
       "    </tr>\n",
       "    <tr>\n",
       "      <th>41</th>\n",
       "      <td>78</td>\n",
       "      <td>M</td>\n",
       "      <td>train-clean-100</td>\n",
       "      <td>25.05</td>\n",
       "      <td>Hugh McGuire</td>\n",
       "    </tr>\n",
       "    <tr>\n",
       "      <th>45</th>\n",
       "      <td>83</td>\n",
       "      <td>F</td>\n",
       "      <td>train-clean-100</td>\n",
       "      <td>25.04</td>\n",
       "      <td>Catharine Eastman</td>\n",
       "    </tr>\n",
       "    <tr>\n",
       "      <th>48</th>\n",
       "      <td>87</td>\n",
       "      <td>F</td>\n",
       "      <td>train-clean-100</td>\n",
       "      <td>25.10</td>\n",
       "      <td>Rosalind Wills</td>\n",
       "    </tr>\n",
       "  </tbody>\n",
       "</table>\n",
       "</div>"
      ],
      "text/plain": [
       "    ID  SEX              SUBSET  MINUTES                NAME\n",
       "3   19   F    train-clean-100      25.19    Kara Shallenberg\n",
       "8   26   M    train-clean-100      25.08        Denny Sayers\n",
       "9   27   M    train-clean-100      20.14       Sean McKinley\n",
       "14  32   F    train-clean-100      24.01         Betsie Bush\n",
       "18  39   F    train-clean-100      25.05     Sherry Crowther\n",
       "19  40   F    train-clean-100      25.04       Vicki Barbour\n",
       "32  60   M    train-clean-100      20.18                    \n",
       "41  78   M    train-clean-100      25.05        Hugh McGuire\n",
       "45  83   F    train-clean-100      25.04   Catharine Eastman\n",
       "48  87   F    train-clean-100      25.10      Rosalind Wills"
      ]
     },
     "execution_count": 2,
     "metadata": {},
     "output_type": "execute_result"
    }
   ],
   "source": [
    "tab=pd.read_excel('SPEAKER.xls')\n",
    "tab=tab[tab['SUBSET']==' train-clean-100  '].head(10)\n",
    "tab.head(10)"
   ]
  },
  {
   "cell_type": "code",
   "execution_count": null,
   "id": "c3db1fa5",
   "metadata": {},
   "outputs": [],
   "source": []
  },
  {
   "cell_type": "code",
   "execution_count": 3,
   "id": "82e5bfa4",
   "metadata": {},
   "outputs": [
    {
     "data": {
      "text/plain": [
       "array([' train-clean-100  '], dtype=object)"
      ]
     },
     "execution_count": 3,
     "metadata": {},
     "output_type": "execute_result"
    }
   ],
   "source": [
    "tab['SUBSET'].unique()"
   ]
  },
  {
   "cell_type": "code",
   "execution_count": null,
   "id": "d5f3e087",
   "metadata": {},
   "outputs": [],
   "source": []
  }
 ],
 "metadata": {
  "kernelspec": {
   "display_name": "Python 3 (ipykernel)",
   "language": "python",
   "name": "python3"
  },
  "language_info": {
   "codemirror_mode": {
    "name": "ipython",
    "version": 3
   },
   "file_extension": ".py",
   "mimetype": "text/x-python",
   "name": "python",
   "nbconvert_exporter": "python",
   "pygments_lexer": "ipython3",
   "version": "3.9.7"
  }
 },
 "nbformat": 4,
 "nbformat_minor": 5
}
