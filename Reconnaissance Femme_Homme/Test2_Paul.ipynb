{
 "cells": [
  {
   "cell_type": "code",
   "execution_count": 1,
   "id": "4adaed54",
   "metadata": {},
   "outputs": [
    {
     "name": "stderr",
     "output_type": "stream",
     "text": [
      "C:\\Users\\Paul\\anaconda3\\lib\\site-packages\\IPython\\core\\interactiveshell.py:3444: FutureWarning: In a future version of pandas all arguments of read_csv except for the argument 'filepath_or_buffer' will be keyword-only\n",
      "  exec(code_obj, self.user_global_ns, self.user_ns)\n"
     ]
    }
   ],
   "source": [
    "import pandas as pd\n",
    "tab=pd.read_csv('Transfos_data.csv',';')"
   ]
  },
  {
   "cell_type": "code",
   "execution_count": 20,
   "id": "545743dd",
   "metadata": {},
   "outputs": [],
   "source": [
    "prov=tab.groupby('SEXE-').mean()"
   ]
  },
  {
   "cell_type": "code",
   "execution_count": 22,
   "id": "e04ae9e7",
   "metadata": {},
   "outputs": [
    {
     "name": "stdout",
     "output_type": "stream",
     "text": [
      "6 1\n",
      "22 2\n",
      "49 3\n",
      "50 4\n",
      "53 5\n",
      "54 6\n",
      "61 7\n",
      "62 8\n",
      "63 9\n",
      "99 10\n",
      "100 11\n",
      "101 12\n",
      "102 13\n",
      "103 14\n",
      "104 15\n",
      "112 16\n",
      "113 17\n",
      "150 18\n",
      "155 19\n",
      "156 20\n",
      "157 21\n",
      "158 22\n",
      "159 23\n",
      "160 24\n",
      "161 25\n",
      "162 26\n",
      "163 27\n",
      "164 28\n",
      "196 29\n",
      "197 30\n",
      "198 31\n",
      "199 32\n",
      "200 33\n",
      "201 34\n",
      "202 35\n",
      "203 36\n",
      "204 37\n",
      "205 38\n",
      "245 39\n",
      "246 40\n",
      "247 41\n",
      "248 42\n",
      "249 43\n",
      "250 44\n",
      "299 45\n",
      "302 46\n",
      "303 47\n",
      "304 48\n",
      "305 49\n",
      "306 50\n",
      "307 51\n",
      "333 52\n",
      "334 53\n",
      "335 54\n",
      "336 55\n",
      "337 56\n",
      "338 57\n",
      "339 58\n",
      "340 59\n",
      "341 60\n",
      "342 61\n"
     ]
    }
   ],
   "source": [
    "L=[]\n",
    "for i in range(1,prov.columns.shape[0]):\n",
    "        calc=prov[tab.columns[i]].iloc[0]/prov[prov.columns[i]].iloc[1]\n",
    "        #print(prov[tab.columns[i]].iloc[0]/prov[prov.columns[i]].iloc[1])\n",
    "        if calc>0.95 and calc<1.05:\n",
    "            L.append(i)\n",
    "            print(i,len(L))"
   ]
  },
  {
   "cell_type": "code",
   "execution_count": null,
   "id": "55deb787",
   "metadata": {},
   "outputs": [],
   "source": []
  }
 ],
 "metadata": {
  "kernelspec": {
   "display_name": "Python 3 (ipykernel)",
   "language": "python",
   "name": "python3"
  },
  "language_info": {
   "codemirror_mode": {
    "name": "ipython",
    "version": 3
   },
   "file_extension": ".py",
   "mimetype": "text/x-python",
   "name": "python",
   "nbconvert_exporter": "python",
   "pygments_lexer": "ipython3",
   "version": "3.9.7"
  }
 },
 "nbformat": 4,
 "nbformat_minor": 5
}
