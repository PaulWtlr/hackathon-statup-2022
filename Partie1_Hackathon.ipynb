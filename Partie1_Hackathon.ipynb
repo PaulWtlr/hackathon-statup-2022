{
 "cells": [
  {
   "cell_type": "code",
   "execution_count": 2,
   "metadata": {},
   "outputs": [
    {
     "name": "stdout",
     "output_type": "stream",
     "text": [
      "Requirement already satisfied: resemblyzer in c:\\users\\paul\\anaconda3\\lib\\site-packages (0.1.1.dev0)\n",
      "Requirement already satisfied: typing in c:\\users\\paul\\anaconda3\\lib\\site-packages (from resemblyzer) (3.7.4.3)\n",
      "Requirement already satisfied: scipy>=1.2.1 in c:\\users\\paul\\anaconda3\\lib\\site-packages (from resemblyzer) (1.7.1)\n",
      "Requirement already satisfied: numpy>=1.10.1 in c:\\users\\paul\\anaconda3\\lib\\site-packages (from resemblyzer) (1.20.3)\n",
      "Requirement already satisfied: torch>=1.0.1 in c:\\users\\paul\\anaconda3\\lib\\site-packages (from resemblyzer) (1.11.0)\n",
      "Requirement already satisfied: librosa>=0.6.1 in c:\\users\\paul\\anaconda3\\lib\\site-packages (from resemblyzer) (0.9.1)\n",
      "Requirement already satisfied: webrtcvad>=2.0.10 in c:\\users\\paul\\anaconda3\\lib\\site-packages (from resemblyzer) (2.0.10)\n",
      "Requirement already satisfied: resampy>=0.2.2 in c:\\users\\paul\\anaconda3\\lib\\site-packages (from librosa>=0.6.1->resemblyzer) (0.2.2)\n",
      "Requirement already satisfied: joblib>=0.14 in c:\\users\\paul\\anaconda3\\lib\\site-packages (from librosa>=0.6.1->resemblyzer) (1.1.0)\n",
      "Requirement already satisfied: numba>=0.45.1 in c:\\users\\paul\\anaconda3\\lib\\site-packages (from librosa>=0.6.1->resemblyzer) (0.54.1)\n",
      "Requirement already satisfied: pooch>=1.0 in c:\\users\\paul\\anaconda3\\lib\\site-packages (from librosa>=0.6.1->resemblyzer) (1.6.0)\n",
      "Requirement already satisfied: soundfile>=0.10.2 in c:\\users\\paul\\anaconda3\\lib\\site-packages (from librosa>=0.6.1->resemblyzer) (0.10.3.post1)\n",
      "Requirement already satisfied: packaging>=20.0 in c:\\users\\paul\\anaconda3\\lib\\site-packages (from librosa>=0.6.1->resemblyzer) (21.0)\n",
      "Requirement already satisfied: audioread>=2.1.5 in c:\\users\\paul\\anaconda3\\lib\\site-packages (from librosa>=0.6.1->resemblyzer) (2.1.9)\n",
      "Requirement already satisfied: scikit-learn>=0.19.1 in c:\\users\\paul\\anaconda3\\lib\\site-packages (from librosa>=0.6.1->resemblyzer) (0.24.2)\n",
      "Requirement already satisfied: decorator>=4.0.10 in c:\\users\\paul\\anaconda3\\lib\\site-packages (from librosa>=0.6.1->resemblyzer) (5.1.0)\n",
      "Requirement already satisfied: setuptools in c:\\users\\paul\\anaconda3\\lib\\site-packages (from numba>=0.45.1->librosa>=0.6.1->resemblyzer) (58.0.4)\n",
      "Requirement already satisfied: llvmlite<0.38,>=0.37.0rc1 in c:\\users\\paul\\anaconda3\\lib\\site-packages (from numba>=0.45.1->librosa>=0.6.1->resemblyzer) (0.37.0)\n",
      "Requirement already satisfied: pyparsing>=2.0.2 in c:\\users\\paul\\anaconda3\\lib\\site-packages (from packaging>=20.0->librosa>=0.6.1->resemblyzer) (3.0.4)\n",
      "Requirement already satisfied: appdirs>=1.3.0 in c:\\users\\paul\\anaconda3\\lib\\site-packages (from pooch>=1.0->librosa>=0.6.1->resemblyzer) (1.4.4)\n",
      "Requirement already satisfied: requests>=2.19.0 in c:\\users\\paul\\anaconda3\\lib\\site-packages (from pooch>=1.0->librosa>=0.6.1->resemblyzer) (2.26.0)\n",
      "Requirement already satisfied: idna<4,>=2.5 in c:\\users\\paul\\anaconda3\\lib\\site-packages (from requests>=2.19.0->pooch>=1.0->librosa>=0.6.1->resemblyzer) (3.2)\n",
      "Requirement already satisfied: urllib3<1.27,>=1.21.1 in c:\\users\\paul\\anaconda3\\lib\\site-packages (from requests>=2.19.0->pooch>=1.0->librosa>=0.6.1->resemblyzer) (1.26.7)\n",
      "Requirement already satisfied: certifi>=2017.4.17 in c:\\users\\paul\\anaconda3\\lib\\site-packages (from requests>=2.19.0->pooch>=1.0->librosa>=0.6.1->resemblyzer) (2021.10.8)\n",
      "Requirement already satisfied: charset-normalizer~=2.0.0 in c:\\users\\paul\\anaconda3\\lib\\site-packages (from requests>=2.19.0->pooch>=1.0->librosa>=0.6.1->resemblyzer) (2.0.4)\n",
      "Requirement already satisfied: six>=1.3 in c:\\users\\paul\\anaconda3\\lib\\site-packages (from resampy>=0.2.2->librosa>=0.6.1->resemblyzer) (1.16.0)\n",
      "Requirement already satisfied: threadpoolctl>=2.0.0 in c:\\users\\paul\\anaconda3\\lib\\site-packages (from scikit-learn>=0.19.1->librosa>=0.6.1->resemblyzer) (2.2.0)\n",
      "Requirement already satisfied: cffi>=1.0 in c:\\users\\paul\\anaconda3\\lib\\site-packages (from soundfile>=0.10.2->librosa>=0.6.1->resemblyzer) (1.14.6)\n",
      "Requirement already satisfied: pycparser in c:\\users\\paul\\anaconda3\\lib\\site-packages (from cffi>=1.0->soundfile>=0.10.2->librosa>=0.6.1->resemblyzer) (2.20)\n",
      "Requirement already satisfied: typing-extensions in c:\\users\\paul\\anaconda3\\lib\\site-packages (from torch>=1.0.1->resemblyzer) (3.10.0.2)\n",
      "Note: you may need to restart the kernel to use updated packages.\n"
     ]
    }
   ],
   "source": [
    "pip install resemblyzer"
   ]
  },
  {
   "cell_type": "code",
   "execution_count": 1,
   "metadata": {
    "colab": {
     "base_uri": "https://localhost:8080/",
     "height": 1000
    },
    "id": "sDohGGxaB8A_",
    "outputId": "625ea284-711d-4e15-c6f1-e727eff934bd"
   },
   "outputs": [
    {
     "name": "stderr",
     "output_type": "stream",
     "text": [
      "C:\\Users\\Paul\\anaconda3\\lib\\site-packages\\pydub\\utils.py:170: RuntimeWarning: Couldn't find ffmpeg or avconv - defaulting to ffmpeg, but may not work\n",
      "  warn(\"Couldn't find ffmpeg or avconv - defaulting to ffmpeg, but may not work\", RuntimeWarning)\n"
     ]
    }
   ],
   "source": [
    "from resemblyzer import preprocess_wav, VoiceEncoder\n",
    "from pathlib import Path\n",
    "from inaSpeechSegmenter import Segmenter\n",
    "from inaSpeechSegmenter.export_funcs import seg2csv, seg2textgrid\n",
    "from spectralcluster import SpectralClusterer\n",
    "from spectralcluster import RefinementOptions\n",
    "from spectralcluster import ThresholdType\n",
    "from spectralcluster import ICASSP2018_REFINEMENT_SEQUENCE\n",
    "from resemblyzer.audio import sampling_rate\n",
    "from pydub import AudioSegment\n",
    "import numpy as np"
   ]
  },
  {
   "cell_type": "code",
   "execution_count": 2,
   "metadata": {
    "id": "6RVfWGt0CI8S"
   },
   "outputs": [],
   "source": [
    "def different_speakers(audio_path):\n",
    "  ''' Paramètres\n",
    "      ----------\n",
    "      audio_path : string\n",
    "      Chemin d'accès au fichier .wav à analyser\n",
    "      '''\n",
    "\n",
    "  # I - Fonction qui extrait les paroles du reste de l'audio (silence, musique, etc.)\n",
    "  # Renvoie la segmentation sur la forme [('Speech',0.0,0.14), ('NoEnergy',0.14,0.45), ('Music',0.45,1.12), ...]]\n",
    "  def extract_speech(audio_path):\n",
    "    segmentation = Segmenter(detect_gender=False)\n",
    "    return segmentation(audio_path)\n",
    "\n",
    "  # Fonction qui renvoie un fichier audio ne contenant que les passages où des personnes parlent\n",
    "  def concatenate_segments(segmentation):\n",
    "    t1 = [] #Temps de début de parole\n",
    "    t2 = [] #Temps de fin de parole\n",
    "\n",
    "    #Remplissage des tableaux précédents\n",
    "    for i in range(len(segmentation)):\n",
    "      #if (segmentation[i][0] == 'male') or (segmentation[i][0] == 'female'):\n",
    "      if segmentation[i][0] == 'speech':\n",
    "        t1.append(segmentation[i][1])\n",
    "        t2.append(segmentation[i][2])\n",
    "\n",
    "    #Importation du fichier .wav dont on veut les différents locuteurs\n",
    "    newAudio = AudioSegment.from_wav(audio_path)\n",
    "    #Génération de deux fichiers audio vides\n",
    "    audio = AudioSegment.empty()\n",
    "\n",
    "    # Génération fichier\n",
    "    for i in range(len(t1)):\n",
    "      audio += newAudio[t1[i]*1000:t2[i]*1000]\n",
    "\n",
    "    audio.export(out_f = \"cut_audio.wav\", \n",
    "                          format = \"wav\")\n",
    "    \n",
    "    return \"cut_audio.wav\"\n",
    "\n",
    "  # On segmente l'audio selon les différents locuteurs\n",
    "  # Renvoie \n",
    "  def speaker_segmentation(audio):\n",
    "    wav_fpath = Path('/content/'+audio)\n",
    "    wav = preprocess_wav(wav_fpath)\n",
    "    encoder = VoiceEncoder(\"cpu\")\n",
    "    _, cont_embeds, wav_splits = encoder.embed_utterance(wav, return_partials=True, rate=16)\n",
    "\n",
    "    # Pour déterminer les différents locuteurs/locutrices, on clusterise\n",
    "    refinement_options = RefinementOptions(gaussian_blur_sigma=1,\n",
    "                                            p_percentile=0.90,\n",
    "                                            thresholding_soft_multiplier=0.01,\n",
    "                                            thresholding_type=ThresholdType.RowMax,\n",
    "                                            refinement_sequence=ICASSP2018_REFINEMENT_SEQUENCE)\n",
    "\n",
    "    clusterer = SpectralClusterer(min_clusters=2,\n",
    "                                  max_clusters=100,\n",
    "                                  refinement_options=refinement_options)\n",
    "    \n",
    "    labels = clusterer.predict(cont_embeds)\n",
    "    \n",
    "    times = [((s.start + s.stop) / 2) / sampling_rate for s in wav_splits]\n",
    "    labelling = []\n",
    "    start_time = 0\n",
    "\n",
    "    for i,time in enumerate(times):\n",
    "        if i>0 and labels[i]!=labels[i-1]:\n",
    "            temp = [str(labels[i-1]),start_time,time]\n",
    "            labelling.append(tuple(temp))\n",
    "            start_time = time\n",
    "        if i==len(times)-1:\n",
    "            temp = [str(labels[i]),start_time,time]\n",
    "            labelling.append(tuple(temp))\n",
    "\n",
    "    return labelling\n",
    "\n",
    "  def extract_audios(labelling):\n",
    "    audio = AudioSegment.from_wav(audio_path)\n",
    "    L=[]\n",
    "    for t in labelling:\n",
    "      new_audio =AudioSegment.empty()\n",
    "      new_audio= audio[t[1]*1000:t[2]*1000]\n",
    "      out_f= \"new_audio\"+str([t[1],t[2]])+\".wav\"\n",
    "      new_audio.export(out_f , format = \"wav\")\n",
    "      L.append(out_f)\n",
    "    return(L)\n",
    "\n",
    "  ## Exécution finale : \n",
    "  # Etape I : \n",
    "  segmentation = extract_speech(audio_path)\n",
    "  # Etape II : \n",
    "  newAudio = concatenate_segments(segmentation)\n",
    "  # Etape III :\n",
    "  labelling = speaker_segmentation(newAudio)\n",
    "  # Etape IV : \n",
    "  resultat = extract_audios(labelling)\n",
    "\n",
    "  return resultat"
   ]
  },
  {
   "cell_type": "code",
   "execution_count": 3,
   "metadata": {
    "colab": {
     "base_uri": "https://localhost:8080/",
     "height": 589
    },
    "id": "vO-1jvJmCKW1",
    "outputId": "3e58cec2-3478-48ed-d5f4-d5a20e3110be"
   },
   "outputs": [
    {
     "ename": "Exception",
     "evalue": "ffmpeg program not found",
     "output_type": "error",
     "traceback": [
      "\u001b[1;31m---------------------------------------------------------------------------\u001b[0m",
      "\u001b[1;31mException\u001b[0m                                 Traceback (most recent call last)",
      "\u001b[1;32m~\\AppData\\Local\\Temp/ipykernel_5824/424051815.py\u001b[0m in \u001b[0;36m<module>\u001b[1;34m\u001b[0m\n\u001b[0;32m      1\u001b[0m \u001b[1;31m## Test :\u001b[0m\u001b[1;33m\u001b[0m\u001b[1;33m\u001b[0m\u001b[0m\n\u001b[0;32m      2\u001b[0m \u001b[1;33m\u001b[0m\u001b[0m\n\u001b[1;32m----> 3\u001b[1;33m \u001b[0mdifferent_speakers\u001b[0m\u001b[1;33m(\u001b[0m\u001b[1;34m\"/Separation_speakers/MovieSoundClips.net dataset/6.wav\"\u001b[0m\u001b[1;33m)\u001b[0m\u001b[1;33m\u001b[0m\u001b[1;33m\u001b[0m\u001b[0m\n\u001b[0m",
      "\u001b[1;32m~\\AppData\\Local\\Temp/ipykernel_5824/187257459.py\u001b[0m in \u001b[0;36mdifferent_speakers\u001b[1;34m(audio_path)\u001b[0m\n\u001b[0;32m     87\u001b[0m   \u001b[1;31m## Exécution finale :\u001b[0m\u001b[1;33m\u001b[0m\u001b[1;33m\u001b[0m\u001b[0m\n\u001b[0;32m     88\u001b[0m   \u001b[1;31m# Etape I :\u001b[0m\u001b[1;33m\u001b[0m\u001b[1;33m\u001b[0m\u001b[0m\n\u001b[1;32m---> 89\u001b[1;33m   \u001b[0msegmentation\u001b[0m \u001b[1;33m=\u001b[0m \u001b[0mextract_speech\u001b[0m\u001b[1;33m(\u001b[0m\u001b[0maudio_path\u001b[0m\u001b[1;33m)\u001b[0m\u001b[1;33m\u001b[0m\u001b[1;33m\u001b[0m\u001b[0m\n\u001b[0m\u001b[0;32m     90\u001b[0m   \u001b[1;31m# Etape II :\u001b[0m\u001b[1;33m\u001b[0m\u001b[1;33m\u001b[0m\u001b[0m\n\u001b[0;32m     91\u001b[0m   \u001b[0mnewAudio\u001b[0m \u001b[1;33m=\u001b[0m \u001b[0mconcatenate_segments\u001b[0m\u001b[1;33m(\u001b[0m\u001b[0msegmentation\u001b[0m\u001b[1;33m)\u001b[0m\u001b[1;33m\u001b[0m\u001b[1;33m\u001b[0m\u001b[0m\n",
      "\u001b[1;32m~\\AppData\\Local\\Temp/ipykernel_5824/187257459.py\u001b[0m in \u001b[0;36mextract_speech\u001b[1;34m(audio_path)\u001b[0m\n\u001b[0;32m      9\u001b[0m   \u001b[1;31m# Renvoie la segmentation sur la forme [('Speech',0.0,0.14), ('NoEnergy',0.14,0.45), ('Music',0.45,1.12), ...]]\u001b[0m\u001b[1;33m\u001b[0m\u001b[1;33m\u001b[0m\u001b[0m\n\u001b[0;32m     10\u001b[0m   \u001b[1;32mdef\u001b[0m \u001b[0mextract_speech\u001b[0m\u001b[1;33m(\u001b[0m\u001b[0maudio_path\u001b[0m\u001b[1;33m)\u001b[0m\u001b[1;33m:\u001b[0m\u001b[1;33m\u001b[0m\u001b[1;33m\u001b[0m\u001b[0m\n\u001b[1;32m---> 11\u001b[1;33m     \u001b[0msegmentation\u001b[0m \u001b[1;33m=\u001b[0m \u001b[0mSegmenter\u001b[0m\u001b[1;33m(\u001b[0m\u001b[0mdetect_gender\u001b[0m\u001b[1;33m=\u001b[0m\u001b[1;32mFalse\u001b[0m\u001b[1;33m)\u001b[0m\u001b[1;33m\u001b[0m\u001b[1;33m\u001b[0m\u001b[0m\n\u001b[0m\u001b[0;32m     12\u001b[0m     \u001b[1;32mreturn\u001b[0m \u001b[0msegmentation\u001b[0m\u001b[1;33m(\u001b[0m\u001b[0maudio_path\u001b[0m\u001b[1;33m)\u001b[0m\u001b[1;33m\u001b[0m\u001b[1;33m\u001b[0m\u001b[0m\n\u001b[0;32m     13\u001b[0m \u001b[1;33m\u001b[0m\u001b[0m\n",
      "\u001b[1;32m~\\anaconda3\\lib\\site-packages\\inaSpeechSegmenter\\segmenter.py\u001b[0m in \u001b[0;36m__init__\u001b[1;34m(self, vad_engine, detect_gender, ffmpeg, batch_size, energy_ratio)\u001b[0m\n\u001b[0;32m    203\u001b[0m         \u001b[1;31m# test ffmpeg installation\u001b[0m\u001b[1;33m\u001b[0m\u001b[1;33m\u001b[0m\u001b[0m\n\u001b[0;32m    204\u001b[0m         \u001b[1;32mif\u001b[0m \u001b[0mshutil\u001b[0m\u001b[1;33m.\u001b[0m\u001b[0mwhich\u001b[0m\u001b[1;33m(\u001b[0m\u001b[0mffmpeg\u001b[0m\u001b[1;33m)\u001b[0m \u001b[1;32mis\u001b[0m \u001b[1;32mNone\u001b[0m\u001b[1;33m:\u001b[0m\u001b[1;33m\u001b[0m\u001b[1;33m\u001b[0m\u001b[0m\n\u001b[1;32m--> 205\u001b[1;33m             \u001b[1;32mraise\u001b[0m\u001b[1;33m(\u001b[0m\u001b[0mException\u001b[0m\u001b[1;33m(\u001b[0m\u001b[1;34m\"\"\"ffmpeg program not found\"\"\"\u001b[0m\u001b[1;33m)\u001b[0m\u001b[1;33m)\u001b[0m\u001b[1;33m\u001b[0m\u001b[1;33m\u001b[0m\u001b[0m\n\u001b[0m\u001b[0;32m    206\u001b[0m         \u001b[0mself\u001b[0m\u001b[1;33m.\u001b[0m\u001b[0mffmpeg\u001b[0m \u001b[1;33m=\u001b[0m \u001b[0mffmpeg\u001b[0m\u001b[1;33m\u001b[0m\u001b[1;33m\u001b[0m\u001b[0m\n\u001b[0;32m    207\u001b[0m \u001b[1;33m\u001b[0m\u001b[0m\n",
      "\u001b[1;31mException\u001b[0m: ffmpeg program not found"
     ]
    }
   ],
   "source": [
    "## Test : \n",
    "\n",
    "different_speakers(\"/Separation_speakers/MovieSoundClips.net dataset/6.wav\")"
   ]
  },
  {
   "cell_type": "code",
   "execution_count": null,
   "metadata": {},
   "outputs": [],
   "source": []
  }
 ],
 "metadata": {
  "colab": {
   "name": "Partie1_Hackathon.ipynb",
   "provenance": []
  },
  "kernelspec": {
   "display_name": "Python 3 (ipykernel)",
   "language": "python",
   "name": "python3"
  },
  "language_info": {
   "codemirror_mode": {
    "name": "ipython",
    "version": 3
   },
   "file_extension": ".py",
   "mimetype": "text/x-python",
   "name": "python",
   "nbconvert_exporter": "python",
   "pygments_lexer": "ipython3",
   "version": "3.9.7"
  }
 },
 "nbformat": 4,
 "nbformat_minor": 1
}
